{
 "cells": [
  {
   "cell_type": "code",
   "execution_count": 42,
   "metadata": {},
   "outputs": [],
   "source": [
    "import numpy as np\n",
    "import math\n",
    "import matplotlib.pyplot as plt\n",
    "import pandas as pd\n",
    "from scipy.optimize import curve_fit"
   ]
  },
  {
   "attachments": {},
   "cell_type": "markdown",
   "metadata": {},
   "source": [
    "ここでは,物理学実験1のデータを用いてPythonを使ったデータ解析を行ってみる\n",
    "."
   ]
  },
  {
   "attachments": {},
   "cell_type": "markdown",
   "metadata": {},
   "source": [
    "# 課題3 "
   ]
  },
  {
   "cell_type": "code",
   "execution_count": 43,
   "metadata": {},
   "outputs": [],
   "source": [
    "rowdata= pd.read_csv('PEP1-3-4.csv', usecols=[1, 3])"
   ]
  },
  {
   "cell_type": "code",
   "execution_count": 44,
   "metadata": {},
   "outputs": [
    {
     "name": "stdout",
     "output_type": "stream",
     "text": [
      "                 13:00      Unnamed: 3\n",
      "0                  NaN             NaN\n",
      "1           559.615084             NaN\n",
      "2       -0.04926826477             NaN\n",
      "3   0.0000001952758655             NaN\n",
      "4                  NaN             NaN\n",
      "5              液面高さ[m]         ダイオード高さ\n",
      "6                  0.3             NaN\n",
      "7                 0.22           0.055\n",
      "8                  NaN             NaN\n",
      "9                  NaN             NaN\n",
      "10            絶対圧[MPa]             NaN\n",
      "11                 0.1           77.35\n",
      "12                0.09     76.67078024\n",
      "13                0.08     75.67475021\n",
      "14                0.07     74.72417061\n",
      "15                0.06     73.50224991\n",
      "16                0.05     72.05441628\n",
      "17                0.04     70.42608149\n",
      "18                0.03     68.48178939\n",
      "19                0.02     65.49893192\n",
      "20                0.01      559.615084\n",
      "21                   0         #VALUE!\n",
      "22                0.01     62.92419682\n",
      "23                 NaN             NaN\n",
      "24                 NaN             NaN\n",
      "25                 NaN             NaN\n",
      "26                 NaN             NaN\n",
      "27                 NaN             NaN\n",
      "28              温度(再掲)             1/T\n",
      "29               77.35   0.01292824822\n",
      "30         76.67078024   0.01304277845\n",
      "31         75.67475021   0.01321444732\n",
      "32         74.72417061   0.01338255068\n",
      "33         73.50224991   0.01360502571\n",
      "34         72.05441628   0.01387839985\n",
      "35         70.42608149   0.01419928496\n",
      "36         68.48178939   0.01460242217\n",
      "37         65.49893192   0.01526742453\n",
      "38          559.615084  0.001786942541\n",
      "39             #VALUE!         #VALUE!\n",
      "40                 NaN             NaN\n",
      "41   絶対圧0のデータはおそらくとれない             NaN\n",
      "42            ↓データ数に注意             NaN\n",
      "43        -688.3044978             NaN\n",
      "44         6.565626187             NaN\n",
      "45                 NaN             NaN\n",
      "46         710.2565105             NaN\n"
     ]
    }
   ],
   "source": [
    "print(rowdata)"
   ]
  },
  {
   "cell_type": "code",
   "execution_count": 45,
   "metadata": {},
   "outputs": [
    {
     "name": "stdout",
     "output_type": "stream",
     "text": [
      "[[nan nan]\n",
      " ['559.615084' nan]\n",
      " ['-0.04926826477' nan]\n",
      " ['0.0000001952758655' nan]\n",
      " [nan nan]\n",
      " ['液面高さ[m]' 'ダイオード高さ']\n",
      " ['0.3' nan]\n",
      " ['0.22' '0.055']\n",
      " [nan nan]\n",
      " [nan nan]\n",
      " ['絶対圧[MPa]' nan]\n",
      " ['0.1' '77.35']\n",
      " ['0.09' '76.67078024']\n",
      " ['0.08' '75.67475021']\n",
      " ['0.07' '74.72417061']\n",
      " ['0.06' '73.50224991']\n",
      " ['0.05' '72.05441628']\n",
      " ['0.04' '70.42608149']\n",
      " ['0.03' '68.48178939']\n",
      " ['0.02' '65.49893192']\n",
      " ['0.01' '559.615084']\n",
      " ['0' '#VALUE!']\n",
      " ['0.01' '62.92419682']\n",
      " [nan nan]\n",
      " [nan nan]\n",
      " [nan nan]\n",
      " [nan nan]\n",
      " [nan nan]\n",
      " ['温度(再掲)' '1/T']\n",
      " ['77.35' '0.01292824822']\n",
      " ['76.67078024' '0.01304277845']\n",
      " ['75.67475021' '0.01321444732']\n",
      " ['74.72417061' '0.01338255068']\n",
      " ['73.50224991' '0.01360502571']\n",
      " ['72.05441628' '0.01387839985']\n",
      " ['70.42608149' '0.01419928496']\n",
      " ['68.48178939' '0.01460242217']\n",
      " ['65.49893192' '0.01526742453']\n",
      " ['559.615084' '0.001786942541']\n",
      " ['#VALUE!' '#VALUE!']\n",
      " [nan nan]\n",
      " ['絶対圧0のデータはおそらくとれない' nan]\n",
      " ['↓データ数に注意' nan]\n",
      " ['-688.3044978' nan]\n",
      " ['6.565626187' nan]\n",
      " [nan nan]\n",
      " ['710.2565105' nan]]\n"
     ]
    }
   ],
   "source": [
    "data=rowdata.values\n",
    "print(data)"
   ]
  },
  {
   "cell_type": "code",
   "execution_count": 46,
   "metadata": {},
   "outputs": [
    {
     "name": "stdout",
     "output_type": "stream",
     "text": [
      "0.1\n"
     ]
    }
   ],
   "source": [
    "print(data[11][0])"
   ]
  },
  {
   "cell_type": "code",
   "execution_count": 47,
   "metadata": {},
   "outputs": [],
   "source": [
    "datax=[]\n",
    "datay=[]\n",
    "for i in range(11,20):\n",
    "    datax.append(float(data[i][1]))\n",
    "    datay.append(float(data[i][0]))\n"
   ]
  },
  {
   "cell_type": "code",
   "execution_count": 48,
   "metadata": {},
   "outputs": [
    {
     "name": "stdout",
     "output_type": "stream",
     "text": [
      "[77.35, 76.67078024, 75.67475021, 74.72417061, 73.50224991, 72.05441628, 70.42608149, 68.48178939, 65.49893192] [0.1, 0.09, 0.08, 0.07, 0.06, 0.05, 0.04, 0.03, 0.02]\n"
     ]
    }
   ],
   "source": [
    "print(datax,datay)"
   ]
  },
  {
   "cell_type": "code",
   "execution_count": 49,
   "metadata": {},
   "outputs": [],
   "source": [
    "datax=np.array(datax)\n",
    "datay=np.array(datay)"
   ]
  },
  {
   "cell_type": "code",
   "execution_count": 50,
   "metadata": {},
   "outputs": [
    {
     "name": "stdout",
     "output_type": "stream",
     "text": [
      "[77.35       76.67078024 75.67475021 74.72417061 73.50224991 72.05441628\n",
      " 70.42608149 68.48178939 65.49893192] [0.1  0.09 0.08 0.07 0.06 0.05 0.04 0.03 0.02]\n"
     ]
    }
   ],
   "source": [
    "print(datax,datay)"
   ]
  },
  {
   "cell_type": "code",
   "execution_count": 51,
   "metadata": {},
   "outputs": [
    {
     "name": "stderr",
     "output_type": "stream",
     "text": [
      "No artists with labels found to put in legend.  Note that artists whose label start with an underscore are ignored when legend() is called with no argument.\n"
     ]
    },
    {
     "data": {
      "image/png": "[encoded data removed]",
      "text/plain": [
       "<Figure size 864x576 with 1 Axes>"
      ]
     },
     "metadata": {},
     "output_type": "display_data"
    }
   ],
   "source": [
    "plt.figure(figsize=(12,8),facecolor=\"white\",)\n",
    "plt.title(\"Physics Experiment 1 3-4\")\n",
    "plt.scatter(datax,datay,marker=\"x\",color=\"blue\",linewidth=1.0,label=\"\")\n",
    "#plt.plot(datax,datay,color=\"red\",linewidth=1.0,label=\"\")\n",
    "\n",
    "plt.legend()\n",
    "plt.xlabel(\"T\")\n",
    "plt.ylabel(\"P\")\n",
    "plt.grid()\n",
    "#plt.xlim()"
   ]
  },
  {
   "cell_type": "code",
   "execution_count": 56,
   "metadata": {},
   "outputs": [],
   "source": [
    "def Exponential_fit(x,a,b):\n",
    "    return b*np.exp(a/x)\n",
    "\n",
    "#curve fittingの実施\n",
    "param, cov = curve_fit(Exponential_fit, datax, datay)"
   ]
  },
  {
   "cell_type": "code",
   "execution_count": 65,
   "metadata": {},
   "outputs": [
    {
     "name": "stdout",
     "output_type": "stream",
     "text": [
      "[-712.00207874  978.10700275]\n",
      "[[  140.33481669 -1825.57238196]\n",
      " [-1825.57238196 23773.73737748]]\n"
     ]
    }
   ],
   "source": [
    "print(param)\n",
    "print(cov)"
   ]
  },
  {
   "cell_type": "code",
   "execution_count": 58,
   "metadata": {},
   "outputs": [],
   "source": [
    "sample_x=np.linspace(65,78,1000)\n",
    "y=param[1]*np.exp(param[0]/sample_x)"
   ]
  },
  {
   "cell_type": "code",
   "execution_count": 62,
   "metadata": {},
   "outputs": [],
   "source": [
    "mtly=710*np.exp(-688/sample_x)"
   ]
  },
  {
   "cell_type": "code",
   "execution_count": 67,
   "metadata": {},
   "outputs": [
    {
     "data": {
      "text/plain": [
       "(65.0, 78.0)"
      ]
     },
     "execution_count": 67,
     "metadata": {},
     "output_type": "execute_result"
    },
    {
     "data": {
      "image/png": "[encoded data removed]",
      "text/plain": [
       "<Figure size 864x576 with 1 Axes>"
      ]
     },
     "metadata": {},
     "output_type": "display_data"
    }
   ],
   "source": [
    "plt.figure(figsize=(12,8),facecolor=\"white\",)\n",
    "plt.title(\"Physics Experiment 1 3-4\")\n",
    "plt.scatter(datax,datay,marker=\"x\",color=\"blue\",linewidth=1.0,label=\"data\")\n",
    "plt.plot(sample_x,y,color=\"red\",linewidth=1.0,label=\"fit\")\n",
    "plt.plot(sample_x,mtly,\":\",color=\"red\",linewidth=1.0,label=\"mlt\")\n",
    "\n",
    "plt.legend()\n",
    "plt.xlabel(\"T\")\n",
    "plt.ylabel(\"P\")\n",
    "plt.grid()\n",
    "plt.xlim(65,78)"
   ]
  },
  {
   "cell_type": "code",
   "execution_count": null,
   "metadata": {},
   "outputs": [],
   "source": []
  }
 ],
 "metadata": {
  "kernelspec": {
   "display_name": "base",
   "language": "python",
   "name": "python3"
  },
  "language_info": {
   "codemirror_mode": {
    "name": "ipython",
    "version": 3
   },
   "file_extension": ".py",
   "mimetype": "text/x-python",
   "name": "python",
   "nbconvert_exporter": "python",
   "pygments_lexer": "ipython3",
   "version": "3.9.12"
  },
  "orig_nbformat": 4
 },
 "nbformat": 4,
 "nbformat_minor": 2
}
