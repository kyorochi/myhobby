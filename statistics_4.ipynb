{
 "cells": [
  {
   "cell_type": "markdown",
   "metadata": {},
   "source": [
    "第4回数理統計学"
   ]
  },
  {
   "cell_type": "code",
   "execution_count": 31,
   "metadata": {},
   "outputs": [],
   "source": [
    "ENV[\"LINES\"], ENV[\"COLUMNS\"] = 100, 100\n",
    "using BenchmarkTools\n",
    "using Distributions\n",
    "using LinearAlgebra\n",
    "using Optim\n",
    "using Printf\n",
    "using QuadGK\n",
    "using Random\n",
    "Random.seed!(4649373)\n",
    "using Roots\n",
    "using SpecialFunctions\n",
    "using StaticArrays\n",
    "using StatsBase\n",
    "using StatsFuns\n",
    "using StatsPlots\n",
    "default(fmt = :png, titlefontsize = 10, size = (400, 250))\n",
    "using SymPy"
   ]
  },
  {
   "cell_type": "code",
   "execution_count": 32,
   "metadata": {},
   "outputs": [],
   "source": [
    "# Override the Base.show definition of SymPy.jl:\n",
    "# https://github.com/JuliaPy/SymPy.jl/blob/29c5bfd1d10ac53014fa7fef468bc8deccadc2fc/src/types.jl#L87-L105\n",
    "\n",
    "@eval SymPy function Base.show(io::IO, ::MIME\"text/latex\", x::SymbolicObject)\n",
    "    print(io, as_markdown(\"\\\\displaystyle \" * sympy.latex(x, mode=\"plain\", fold_short_frac=false)))\n",
    "end\n",
    "@eval SymPy function Base.show(io::IO, ::MIME\"text/latex\", x::AbstractArray{Sym})\n",
    "    function toeqnarray(x::Vector{Sym})\n",
    "        a = join([\"\\\\displaystyle \" * sympy.latex(x[i]) for i in 1:length(x)], \"\\\\\\\\\")\n",
    "        \"\"\"\\\\left[ \\\\begin{array}{r}$a\\\\end{array} \\\\right]\"\"\"\n",
    "    end\n",
    "    function toeqnarray(x::AbstractArray{Sym,2})\n",
    "        sz = size(x)\n",
    "        a = join([join(\"\\\\displaystyle \" .* map(sympy.latex, x[i,:]), \"&\") for i in 1:sz[1]], \"\\\\\\\\\")\n",
    "        \"\\\\left[ \\\\begin{array}{\" * repeat(\"r\",sz[2]) * \"}\" * a * \"\\\\end{array}\\\\right]\"\n",
    "    end\n",
    "    print(io, as_markdown(toeqnarray(x)))\n",
    "end"
   ]
  },
  {
   "cell_type": "markdown",
   "metadata": {},
   "source": [
    "超重要必修問題\n",
    "必修問題:大阪と構想に関する住民投票の結果について"
   ]
  },
  {
   "cell_type": "code",
   "execution_count": 33,
   "metadata": {},
   "outputs": [
    {
     "data": {
      "text/plain": [
       "logP (generic function with 1 method)"
      ]
     },
     "execution_count": 33,
     "metadata": {},
     "output_type": "execute_result"
    }
   ],
   "source": [
    "# 確率関係の数値計算は対数値を使わないと多くの場合に失敗する.\n",
    "# 次は二項分布における確率質量函数の対数である.\n",
    "logP(n, p, k) = logabsbinomial(n, k)[1] + k*log(p) + (n-k)*log(1-p)"
   ]
  },
  {
   "cell_type": "code",
   "execution_count": 34,
   "metadata": {},
   "outputs": [
    {
     "name": "stdout",
     "output_type": "stream",
     "text": [
      "2 * exp(logsumexp((logP(694844 + 705585, 0.5, k) for k = 0:694844))) = 1.130422573100686e-19\n",
      "2 * cdf(Binomial(694844 + 705585, 0.5), 694844) = 1.130422573435063e-19\n"
     ]
    }
   ],
   "source": [
    "# (1)\n",
    "@show 2exp(logsumexp(logP(694844 + 705585, 0.5, k) for k in 0:694844))\n",
    "@show 2cdf(Binomial(694844 + 705585, 0.5), 694844);"
   ]
  },
  {
   "cell_type": "code",
   "execution_count": 35,
   "metadata": {},
   "outputs": [
    {
     "name": "stdout",
     "output_type": "stream",
     "text": [
      "2 * exp(logsumexp((logP(675829 + 692996, 0.5, k) for k = 0:675829))) = 9.687442124914083e-49\n",
      "2 * cdf(Binomial(675829 + 692996, 0.5), 675829) = 9.687442131513948e-49\n"
     ]
    }
   ],
   "source": [
    "# (2)\n",
    "@show 2exp(logsumexp(logP(675829 + 692996, 0.5, k) for k in 0:675829))\n",
    "@show 2cdf(Binomial(675829 + 692996, 0.5), 675829);"
   ]
  },
  {
   "cell_type": "code",
   "execution_count": 36,
   "metadata": {},
   "outputs": [
    {
     "name": "stdout",
     "output_type": "stream",
     "text": [
      "p_L = find_zero(f, (0, 1)) = 0.4953366705819138\n",
      "p_U = find_zero(g, (0, 1)) = 0.4969935526649652\n"
     ]
    }
   ],
   "source": [
    "# (3)\n",
    "f(t) = ccdf(Binomial(694844 + 705585, t), 694844-1) - 0.025\n",
    "g(t) =  cdf(Binomial(694844 + 705585, t), 694844)   - 0.025\n",
    "@show p_L = find_zero(f, (0, 1))\n",
    "@show p_U = find_zero(g, (0, 1));"
   ]
  },
  {
   "cell_type": "code",
   "execution_count": 37,
   "metadata": {},
   "outputs": [
    {
     "name": "stdout",
     "output_type": "stream",
     "text": [
      "n = 694844 + 705585 = 1400429\n",
      "k = 694844 = 694844\n",
      "α = 0.05 = 0.05\n",
      "p_L = quantile(Beta(k, (n - k) + 1), α / 2) = 0.4953366705819138\n",
      "p_U = quantile(Beta(k + 1, n - k), 1 - α / 2) = 0.49699355266496514\n"
     ]
    }
   ],
   "source": [
    "# (3)\n",
    "@show n = 694844 + 705585\n",
    "@show k = 694844\n",
    "@show α = 0.05\n",
    "@show p_L = quantile(Beta(k, n-k+1), α/2)\n",
    "@show p_U = quantile(Beta(k+1, n-k), 1 - α/2);"
   ]
  },
  {
   "cell_type": "code",
   "execution_count": 38,
   "metadata": {},
   "outputs": [
    {
     "name": "stdout",
     "output_type": "stream",
     "text": [
      "n = 694844 + 705585 = 1400429\n",
      "k = 694844 = 694844\n",
      "α = 0.05 = 0.05\n",
      "p_L = (beta_inc_inv(k, (n - k) + 1, α / 2))[1] = 0.4953366705819138\n",
      "p_U = (beta_inc_inv(k + 1, n - k, 1 - α / 2))[1] = 0.49699355266496514\n"
     ]
    }
   ],
   "source": [
    "# (3)\n",
    "@show n = 694844 + 705585\n",
    "@show k = 694844\n",
    "@show α = 0.05\n",
    "@show p_L = beta_inc_inv(k, n-k+1, α/2)[1]\n",
    "@show p_U = beta_inc_inv(k+1, n-k, 1 - α/2)[1];"
   ]
  },
  {
   "cell_type": "code",
   "execution_count": 39,
   "metadata": {},
   "outputs": [
    {
     "name": "stdout",
     "output_type": "stream",
     "text": [
      "p_L = find_zero(f, (0, 1)) = 0.49289139358630474\n",
      "p_U = find_zero(g, (0, 1)) = 0.4945672196912542\n"
     ]
    }
   ],
   "source": [
    "# (4)\n",
    "f(t) = ccdf(Binomial(675829 + 692996, t), 675829-1) - 0.025\n",
    "g(t) =  cdf(Binomial(675829 + 692996, t), 675829)   - 0.025\n",
    "@show p_L = find_zero(f, (0, 1))\n",
    "@show p_U = find_zero(g, (0, 1));"
   ]
  },
  {
   "cell_type": "code",
   "execution_count": 40,
   "metadata": {},
   "outputs": [
    {
     "name": "stdout",
     "output_type": "stream",
     "text": [
      "n = 675829 + 692996 = 1368825\n",
      "k = 675829 = 675829\n",
      "α = 0.05 = 0.05\n",
      "p_L = quantile(Beta(k, (n - k) + 1), α / 2) = 0.49289139358630474\n",
      "p_U = quantile(Beta(k + 1, n - k), 1 - α / 2) = 0.4945672196912543\n"
     ]
    }
   ],
   "source": [
    "# (4)\n",
    "@show n = 675829 + 692996\n",
    "@show k = 675829\n",
    "@show α = 0.05\n",
    "@show p_L = quantile(Beta(k, n-k+1), α/2)\n",
    "@show p_U = quantile(Beta(k+1, n-k), 1 - α/2);"
   ]
  },
  {
   "cell_type": "code",
   "execution_count": 53,
   "metadata": {},
   "outputs": [
    {
     "name": "stdout",
     "output_type": "stream",
     "text": [
      "n = 675829 + 692996 = 1368825\n",
      "k = 675829 = 675829\n",
      "α = 0.05 = 0.05\n",
      "p_U = (beta_inc_inv(k + 1, n - k, 1 - α / 2))[1] = 0.4945672196912543\n"
     ]
    }
   ],
   "source": [
    "# (4)\n",
    "@show n = 675829 + 692996\n",
    "@show k = 675829\n",
    "@show α = 0.05\n",
    "@show \n",
    "p_L = beta_inc_inv(k, n-k+1, α/2)[1]\n",
    "@show p_U = beta_inc_inv(k+1, n-k, 1 - α/2)[1];"
   ]
  },
  {
   "cell_type": "markdown",
   "metadata": {},
   "source": [
    "重要必修問題\n",
    "4.2必修問題:最小二乗法の計算例"
   ]
  },
  {
   "cell_type": "code",
   "execution_count": 54,
   "metadata": {},
   "outputs": [
    {
     "data": {
      "text/html": [
       "<div class=\"data-frame\"><p>11 rows × 8 columns</p><table class=\"data-frame\"><thead><tr><th></th><th>X1</th><th>X2</th><th>X3</th><th>X4</th><th>Y1</th><th>Y2</th><th>Y3</th><th>Y4</th></tr><tr><th></th><th title=\"Int64\">Int64</th><th title=\"Int64\">Int64</th><th title=\"Int64\">Int64</th><th title=\"Int64\">Int64</th><th title=\"Float64\">Float64</th><th title=\"Float64\">Float64</th><th title=\"Float64\">Float64</th><th title=\"Float64\">Float64</th></tr></thead><tbody><tr><th>1</th><td>10</td><td>10</td><td>10</td><td>8</td><td>8.04</td><td>9.14</td><td>7.46</td><td>6.58</td></tr><tr><th>2</th><td>8</td><td>8</td><td>8</td><td>8</td><td>6.95</td><td>8.14</td><td>6.77</td><td>5.76</td></tr><tr><th>3</th><td>13</td><td>13</td><td>13</td><td>8</td><td>7.58</td><td>8.74</td><td>12.74</td><td>7.71</td></tr><tr><th>4</th><td>9</td><td>9</td><td>9</td><td>8</td><td>8.81</td><td>8.77</td><td>7.11</td><td>8.84</td></tr><tr><th>5</th><td>11</td><td>11</td><td>11</td><td>8</td><td>8.33</td><td>9.26</td><td>7.81</td><td>8.47</td></tr><tr><th>6</th><td>14</td><td>14</td><td>14</td><td>8</td><td>9.96</td><td>8.1</td><td>8.84</td><td>7.04</td></tr><tr><th>7</th><td>6</td><td>6</td><td>6</td><td>8</td><td>7.24</td><td>6.13</td><td>6.08</td><td>5.25</td></tr><tr><th>8</th><td>4</td><td>4</td><td>4</td><td>19</td><td>4.26</td><td>3.1</td><td>5.39</td><td>12.5</td></tr><tr><th>9</th><td>12</td><td>12</td><td>12</td><td>8</td><td>10.84</td><td>9.13</td><td>8.15</td><td>5.56</td></tr><tr><th>10</th><td>7</td><td>7</td><td>7</td><td>8</td><td>4.82</td><td>7.26</td><td>6.42</td><td>7.91</td></tr><tr><th>11</th><td>5</td><td>5</td><td>5</td><td>8</td><td>5.68</td><td>4.74</td><td>5.73</td><td>6.89</td></tr></tbody></table></div>"
      ],
      "text/latex": [
       "\\begin{tabular}{r|cccccccc}\n",
       "\t& X1 & X2 & X3 & X4 & Y1 & Y2 & Y3 & Y4\\\\\n",
       "\t\\hline\n",
       "\t& Int64 & Int64 & Int64 & Int64 & Float64 & Float64 & Float64 & Float64\\\\\n",
       "\t\\hline\n",
       "\t1 & 10 & 10 & 10 & 8 & 8.04 & 9.14 & 7.46 & 6.58 \\\\\n",
       "\t2 & 8 & 8 & 8 & 8 & 6.95 & 8.14 & 6.77 & 5.76 \\\\\n",
       "\t3 & 13 & 13 & 13 & 8 & 7.58 & 8.74 & 12.74 & 7.71 \\\\\n",
       "\t4 & 9 & 9 & 9 & 8 & 8.81 & 8.77 & 7.11 & 8.84 \\\\\n",
       "\t5 & 11 & 11 & 11 & 8 & 8.33 & 9.26 & 7.81 & 8.47 \\\\\n",
       "\t6 & 14 & 14 & 14 & 8 & 9.96 & 8.1 & 8.84 & 7.04 \\\\\n",
       "\t7 & 6 & 6 & 6 & 8 & 7.24 & 6.13 & 6.08 & 5.25 \\\\\n",
       "\t8 & 4 & 4 & 4 & 19 & 4.26 & 3.1 & 5.39 & 12.5 \\\\\n",
       "\t9 & 12 & 12 & 12 & 8 & 10.84 & 9.13 & 8.15 & 5.56 \\\\\n",
       "\t10 & 7 & 7 & 7 & 8 & 4.82 & 7.26 & 6.42 & 7.91 \\\\\n",
       "\t11 & 5 & 5 & 5 & 8 & 5.68 & 4.74 & 5.73 & 6.89 \\\\\n",
       "\\end{tabular}\n"
      ],
      "text/plain": [
       "\u001b[1m11×8 DataFrame\u001b[0m\n",
       "\u001b[1m Row \u001b[0m│\u001b[1m X1    \u001b[0m\u001b[1m X2    \u001b[0m\u001b[1m X3    \u001b[0m\u001b[1m X4    \u001b[0m\u001b[1m Y1      \u001b[0m\u001b[1m Y2      \u001b[0m\u001b[1m Y3      \u001b[0m\u001b[1m Y4      \u001b[0m\n",
       "\u001b[1m     \u001b[0m│\u001b[90m Int64 \u001b[0m\u001b[90m Int64 \u001b[0m\u001b[90m Int64 \u001b[0m\u001b[90m Int64 \u001b[0m\u001b[90m Float64 \u001b[0m\u001b[90m Float64 \u001b[0m\u001b[90m Float64 \u001b[0m\u001b[90m Float64 \u001b[0m\n",
       "─────┼────────────────────────────────────────────────────────────────\n",
       "   1 │    10     10     10      8     8.04     9.14     7.46     6.58\n",
       "   2 │     8      8      8      8     6.95     8.14     6.77     5.76\n",
       "   3 │    13     13     13      8     7.58     8.74    12.74     7.71\n",
       "   4 │     9      9      9      8     8.81     8.77     7.11     8.84\n",
       "   5 │    11     11     11      8     8.33     9.26     7.81     8.47\n",
       "   6 │    14     14     14      8     9.96     8.1      8.84     7.04\n",
       "   7 │     6      6      6      8     7.24     6.13     6.08     5.25\n",
       "   8 │     4      4      4     19     4.26     3.1      5.39    12.5\n",
       "   9 │    12     12     12      8    10.84     9.13     8.15     5.56\n",
       "  10 │     7      7      7      8     4.82     7.26     6.42     7.91\n",
       "  11 │     5      5      5      8     5.68     4.74     5.73     6.89"
      ]
     },
     "execution_count": 54,
     "metadata": {},
     "output_type": "execute_result"
    }
   ],
   "source": [
    "using RDatasets\n",
    "anscombe = dataset(\"datasets\", \"anscombe\")"
   ]
  },
  {
   "cell_type": "code",
   "execution_count": 55,
   "metadata": {},
   "outputs": [
    {
     "name": "stdout",
     "output_type": "stream",
     "text": [
      "data1 = [(10, 8.04), (8, 6.95), (13, 7.58), (9, 8.81), (11, 8.33), (14, 9.96), (6, 7.24), (4, 4.26), (12, 10.84), (7, 4.82), (5, 5.68)]\n",
      "data2 = [(10, 9.14), (8, 8.14), (13, 8.74), (9, 8.77), (11, 9.26), (14, 8.1), (6, 6.13), (4, 3.1), (12, 9.13), (7, 7.26), (5, 4.74)]\n",
      "data3 = [(10, 7.46), (8, 6.77), (13, 12.74), (9, 7.11), (11, 7.81), (14, 8.84), (6, 6.08), (4, 5.39), (12, 8.15), (7, 6.42), (5, 5.73)]\n",
      "data4 = [(8, 6.58), (8, 5.76), (8, 7.71), (8, 8.84), (8, 8.47), (8, 7.04), (8, 5.25), (19, 12.5), (8, 5.56), (8, 7.91), (8, 6.89)]\n"
     ]
    }
   ],
   "source": [
    "# コピー＆ペーストに利用するための表示\n",
    "data1 = collect(zip(anscombe.X1, anscombe.Y1))\n",
    "data2 = collect(zip(anscombe.X2, anscombe.Y2))\n",
    "data3 = collect(zip(anscombe.X3, anscombe.Y3))\n",
    "data4 = collect(zip(anscombe.X4, anscombe.Y4))\n",
    "@show data1 data2 data3 data4;"
   ]
  },
  {
   "cell_type": "code",
   "execution_count": 56,
   "metadata": {},
   "outputs": [
    {
     "name": "stdout",
     "output_type": "stream",
     "text": [
      "anscombe.X1 = [10, 8, 13, 9, 11, 14, 6, 4, 12, 7, 5]\n",
      "anscombe.Y1 = [8.04, 6.95, 7.58, 8.81, 8.33, 9.96, 7.24, 4.26, 10.84, 4.82, 5.68]\n",
      "anscombe.X2 = [10, 8, 13, 9, 11, 14, 6, 4, 12, 7, 5]\n",
      "anscombe.Y2 = [9.14, 8.14, 8.74, 8.77, 9.26, 8.1, 6.13, 3.1, 9.13, 7.26, 4.74]\n",
      "anscombe.X3 = [10, 8, 13, 9, 11, 14, 6, 4, 12, 7, 5]\n",
      "anscombe.Y3 = [7.46, 6.77, 12.74, 7.11, 7.81, 8.84, 6.08, 5.39, 8.15, 6.42, 5.73]\n",
      "anscombe.X4 = [8, 8, 8, 8, 8, 8, 8, 19, 8, 8, 8]\n",
      "anscombe.Y4 = [6.58, 5.76, 7.71, 8.84, 8.47, 7.04, 5.25, 12.5, 5.56, 7.91, 6.89]\n"
     ]
    }
   ],
   "source": [
    "# コピー＆ペーストに利用するための表示\n",
    "@show anscombe.X1 anscombe.Y1\n",
    "@show anscombe.X2 anscombe.Y2\n",
    "@show anscombe.X3 anscombe.Y3\n",
    "@show anscombe.X4 anscombe.Y4;"
   ]
  },
  {
   "cell_type": "code",
   "execution_count": 57,
   "metadata": {},
   "outputs": [
    {
     "data": {
      "text/plain": [
       "solve_anscombe (generic function with 1 method)"
      ]
     },
     "execution_count": 57,
     "metadata": {},
     "output_type": "execute_result"
    }
   ],
   "source": [
    "function solve_anscombe(x, y;\n",
    "    title=\"\", xlim=(3, 20), ylim=(2, 14), size=(250, 225))\n",
    "@show x̄ = mean(x)\n",
    "@show ȳ = mean(y)\n",
    "@show sx² = var(x)\n",
    "@show sy² = var(y)\n",
    "@show sxy = cov(x, y)\n",
    "β̂ = sxy/sx²\n",
    "α̂ = ȳ - β̂*x̄\n",
    "σ̂ = √((n - 1)/n*(sx²*sy² - sxy^2)/sx²)\n",
    "@show α̂ β̂ σ̂\n",
    "\n",
    "plot_ols(x, y, α̂, β̂; title, xlim, ylim, size)\n",
    "end"
   ]
  },
  {
   "cell_type": "code",
   "execution_count": 58,
   "metadata": {},
   "outputs": [
    {
     "name": "stdout",
     "output_type": "stream",
     "text": [
      "x̄ = mean(x) = 9.0\n",
      "ȳ = mean(y) = 7.500909090909093\n",
      "sx² = var(x) = 11.0\n",
      "sy² = var(y) = 4.127269090909091\n",
      "sxy = cov(x, y) = 5.501\n",
      "α̂ = 3.0000909090909103\n",
      "β̂ = 0.5000909090909091\n",
      "σ̂ = 1.1731444900615435\n"
     ]
    },
    {
     "data": {
      "image/png": "[encoded data removed]"
     },
     "execution_count": 58,
     "metadata": {},
     "output_type": "execute_result"
    }
   ],
   "source": [
    "PA1 = solve_anscombe(anscombe.X1, anscombe.Y1, title=\"Anscombe 1\")"
   ]
  },
  {
   "cell_type": "code",
   "execution_count": 59,
   "metadata": {},
   "outputs": [
    {
     "name": "stdout",
     "output_type": "stream",
     "text": [
      "x̄ = mean(x) = 9.0\n",
      "ȳ = mean(y) = 7.500909090909091\n",
      "sx² = var(x) = 11.0\n",
      "sy² = var(y) = 4.127629090909091\n",
      "sxy = cov(x, y) = 5.499999999999999\n",
      "α̂ = 3.000909090909092\n",
      "β̂ = 0.49999999999999994\n",
      "σ̂ = 1.1737240239840163\n"
     ]
    },
    {
     "data": {
      "image/png": "[encoded data removed]"
     },
     "execution_count": 59,
     "metadata": {},
     "output_type": "execute_result"
    }
   ],
   "source": [
    "PA2 = solve_anscombe(anscombe.X2, anscombe.Y2, title=\"Anscombe 2\")"
   ]
  },
  {
   "cell_type": "code",
   "execution_count": 60,
   "metadata": {},
   "outputs": [
    {
     "name": "stdout",
     "output_type": "stream",
     "text": [
      "x̄ = mean(x) = 9.0\n",
      "ȳ = mean(y) = 7.500000000000001\n",
      "sx² = var(x) = 11.0\n",
      "sy² = var(y) = 4.12262\n",
      "sxy = cov(x, y) = 5.497\n",
      "α̂ = 3.0024545454545466\n",
      "β̂ = 0.49972727272727274\n",
      "σ̂ = 1.17286750183244\n"
     ]
    },
    {
     "data": {
      "image/png": "[encoded data removed]"
     },
     "execution_count": 60,
     "metadata": {},
     "output_type": "execute_result"
    }
   ],
   "source": [
    "PA3 = solve_anscombe(anscombe.X3, anscombe.Y3, title=\"Anscombe 3\")"
   ]
  },
  {
   "cell_type": "code",
   "execution_count": 61,
   "metadata": {},
   "outputs": [
    {
     "name": "stdout",
     "output_type": "stream",
     "text": [
      "x̄ = mean(x) = 9.0\n",
      "ȳ = mean(y) = 7.50090909090909\n",
      "sx² = var(x) = 11.0\n",
      "sy² = var(y) = 4.12324909090909\n",
      "sxy = cov(x, y) = 5.4990000000000006\n",
      "α̂ = 3.0017272727272717\n",
      "β̂ = 0.49990909090909097\n",
      "σ̂ = 1.1722832405342476\n"
     ]
    },
    {
     "data": {
      "image/png": "[encoded data removed]"
     },
     "execution_count": 61,
     "metadata": {},
     "output_type": "execute_result"
    }
   ],
   "source": [
    "PA4 = solve_anscombe(anscombe.X4, anscombe.Y4, title=\"Anscombe 4\")"
   ]
  },
  {
   "cell_type": "code",
   "execution_count": 62,
   "metadata": {},
   "outputs": [
    {
     "data": {
      "image/png": "[encoded data removed]"
     },
     "execution_count": 62,
     "metadata": {},
     "output_type": "execute_result"
    }
   ],
   "source": [
    "plot(PA1, PA2, PA3, PA4; size=(500, 450), layout=(2,2))"
   ]
  },
  {
   "cell_type": "code",
   "execution_count": null,
   "metadata": {},
   "outputs": [],
   "source": []
  }
 ],
 "metadata": {
  "kernelspec": {
   "display_name": "Julia 1.7.2",
   "language": "julia",
   "name": "julia-1.7"
  },
  "language_info": {
   "file_extension": ".jl",
   "mimetype": "application/julia",
   "name": "julia",
   "version": "1.7.2"
  },
  "orig_nbformat": 4
 },
 "nbformat": 4,
 "nbformat_minor": 2
}
