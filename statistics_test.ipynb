{
 "cells": [
  {
   "cell_type": "code",
   "execution_count": 1,
   "metadata": {},
   "outputs": [],
   "source": [
    "ENV[\"LINES\"], ENV[\"COLUMNS\"] = 100, 100\n",
    "using Base.Threads\n",
    "using BenchmarkTools\n",
    "using DataFrames\n",
    "using Distributions\n",
    "using LinearAlgebra\n",
    "using Memoization\n",
    "using Optim\n",
    "using Printf\n",
    "using QuadGK\n",
    "#using RCall\n",
    "#@rimport stats as R\n",
    "using Random\n",
    "Random.seed!(4649373)\n",
    "using Roots\n",
    "using SpecialFunctions\n",
    "using StaticArrays\n",
    "using StatsBase\n",
    "using StatsFuns\n",
    "using StatsPlots\n",
    "default(fmt = :png, size = (400, 250),\n",
    "    titlefontsize = 10, guidefontsize=9, plot_titlefontsize = 12)\n",
    "using SymPy"
   ]
  },
  {
   "cell_type": "code",
   "execution_count": 2,
   "metadata": {},
   "outputs": [],
   "source": [
    "# Override the Base.show definition of SymPy.jl:\n",
    "# https://github.com/JuliaPy/SymPy.jl/blob/29c5bfd1d10ac53014fa7fef468bc8deccadc2fc/src/types.jl#L87-L105\n",
    "\n",
    "@eval SymPy function Base.show(io::IO, ::MIME\"text/latex\", x::SymbolicObject)\n",
    "    print(io, as_markdown(\"\\\\displaystyle \" *\n",
    "            sympy.latex(x, mode=\"plain\", fold_short_frac=false)))\n",
    "end\n",
    "@eval SymPy function Base.show(io::IO, ::MIME\"text/latex\", x::AbstractArray{Sym})\n",
    "    function toeqnarray(x::Vector{Sym})\n",
    "        a = join([\"\\\\displaystyle \" *\n",
    "                sympy.latex(x[i]) for i in 1:length(x)], \"\\\\\\\\\")\n",
    "        \"\"\"\\\\left[ \\\\begin{array}{r}$a\\\\end{array} \\\\right]\"\"\"\n",
    "    end\n",
    "    function toeqnarray(x::AbstractArray{Sym,2})\n",
    "        sz = size(x)\n",
    "        a = join([join(\"\\\\displaystyle \" .* map(sympy.latex, x[i,:]), \"&\")\n",
    "                for i in 1:sz[1]], \"\\\\\\\\\")\n",
    "        \"\\\\left[ \\\\begin{array}{\" * repeat(\"r\",sz[2]) * \"}\" * a * \"\\\\end{array}\\\\right]\"\n",
    "    end\n",
    "    print(io, as_markdown(toeqnarray(x)))\n",
    "end"
   ]
  },
  {
   "cell_type": "code",
   "execution_count": 3,
   "metadata": {},
   "outputs": [
    {
     "data": {
      "text/plain": [
       "mykurtosis (generic function with 2 methods)"
      ]
     },
     "execution_count": 3,
     "metadata": {},
     "output_type": "execute_result"
    }
   ],
   "source": [
    "safemul(x, y) = x == 0 ? x : isinf(x) ? typeof(x)(Inf) : x*y\n",
    "safediv(x, y) = x == 0 ? x : isinf(y) ? zero(y) : x/y\n",
    "\n",
    "x ⪅ y = x < y || x ≈ y\n",
    "\n",
    "mypdf(dist, x) = pdf(dist, x)\n",
    "mypdf(dist::DiscreteUnivariateDistribution, x) = pdf(dist, round(Int, x))\n",
    "\n",
    "distname(dist::Distribution) = replace(string(dist), r\"{.*}\" => \"\")\n",
    "myskewness(dist) = skewness(dist)\n",
    "mykurtosis(dist) = kurtosis(dist)\n",
    "function standardized_moment(dist::ContinuousUnivariateDistribution, m)\n",
    "    μ, σ = mean(dist), std(dist)\n",
    "    quadgk(x -> (x - μ)^m * pdf(dist, x), extrema(dist)...)[1] / σ^m\n",
    "end\n",
    "myskewness(dist::MixtureModel{Univariate, Continuous}) =\n",
    "    standardized_moment(dist, 3)\n",
    "mykurtosis(dist::MixtureModel{Univariate, Continuous}) =\n",
    "    standardized_moment(dist, 4) - 3"
   ]
  },
  {
   "cell_type": "code",
   "execution_count": 4,
   "metadata": {},
   "outputs": [
    {
     "data": {
      "text/plain": [
       "logtick (generic function with 1 method)"
      ]
     },
     "execution_count": 4,
     "metadata": {},
     "output_type": "execute_result"
    }
   ],
   "source": [
    "function logtick(; xlim=(0.03, 30))\n",
    "    xmin, xmax = xlim\n",
    "    a = floor(Int, log10(xmin))\n",
    "    b = ceil(Int, log10(xmax))\n",
    "    nums =     [1, 2, 3, 4, 5, 6, 7, 8, 9]\n",
    "    mask = Bool[1, 1, 0, 0, 1, 0, 0, 0, 0]\n",
    "    \n",
    "    logtick = foldl(vcat, ([10.0^k*x for x in nums if xmin ≤ 10.0^k*x ≤ xmax] for k in a:b))\n",
    "    logticklabel_a = foldl(vcat,\n",
    "        ([mask[i] ? string(round(10.0^k*x; digits=-k)) : \"\"\n",
    "                for (i, x) in enumerate(nums) if xmin ≤ 10.0^k*x ≤ xmax]\n",
    "            for k in a:-1))\n",
    "    logticklabel_b = foldl(vcat,\n",
    "        ([mask[i] ? string(10^k*x) : \"\"\n",
    "                for (i, x) in enumerate(nums) if xmin ≤ 10.0^k*x ≤ xmax]\n",
    "            for k in 0:b))\n",
    "    logticklabel = vcat(logticklabel_a, logticklabel_b)\n",
    "    (logtick, logticklabel)\n",
    "end\n",
    "\n",
    "# logtick()"
   ]
  },
  {
   "cell_type": "markdown",
   "metadata": {},
   "source": [
    "## 必修問題"
   ]
  },
  {
   "cell_type": "markdown",
   "metadata": {},
   "source": [
    "## 大問1"
   ]
  },
  {
   "cell_type": "code",
   "execution_count": 5,
   "metadata": {},
   "outputs": [
    {
     "data": {
      "text/plain": [
       "pvalue_wald (generic function with 1 method)"
      ]
     },
     "execution_count": 5,
     "metadata": {},
     "output_type": "execute_result"
    }
   ],
   "source": [
    "# 上に書いてある定義の通りのP値の実装\n",
    "\n",
    "function pvalue_cp(k, n, p)\n",
    "    bin = Binomial(n, p)\n",
    "    min(1, 2cdf(bin, k), 2ccdf(bin, k-1))\n",
    "end\n",
    "\n",
    "function pvalue_wilson(k, n, p)\n",
    "    z = (k - n*p)/√(n*p*(1-p))\n",
    "    2ccdf(Normal(0, 1), abs(z))\n",
    "end\n",
    "\n",
    "function pvalue_bayes(k, n, p; a=1/2)\n",
    "    beta = Beta(k+a, n-k+a)\n",
    "    min(1, 2cdf(beta, p), 2ccdf(beta, p))\n",
    "end\n",
    "\n",
    "# 後で使うための別のP値の定義\n",
    "\n",
    "function pvalue_sterne(k, n, p)\n",
    "    bin = Binomial(n, p)\n",
    "    # 次はnaiveな定義で計算効率は非常に悪い\n",
    "    sum(pdf(bin, i) for i in support(bin) if pdf(bin, i) ⪅ pdf(bin, k))\n",
    "end\n",
    "\n",
    "function pvalue_wald(k, n, p)\n",
    "    phat = k/n\n",
    "    z = (k - n*p)/√(n*phat*(1-phat))\n",
    "    2ccdf(Normal(0, 1), abs(z))\n",
    "end"
   ]
  },
  {
   "cell_type": "code",
   "execution_count": 6,
   "metadata": {},
   "outputs": [
    {
     "name": "stdout",
     "output_type": "stream",
     "text": [
      "(k, n, p) = (45, 123, 0.5) = (45, 123, 0.5)\n",
      "pvalue_cp(k, n, p) = 0.003731445755098173\n",
      "pvalue_sterne(k, n, p) = 0.0037314457550981835\n",
      "pvalue_wilson(k, n, p) = 0.0029250200956793338\n",
      "pvalue_wald(k, n, p) = 0.0020099961916132864\n"
     ]
    }
   ],
   "source": [
    "@show k, n, p = 45, 123, 0.5\n",
    "@show pvalue_cp(k, n, p)\n",
    "@show pvalue_sterne(k, n, p)\n",
    "@show pvalue_wilson(k, n, p)\n",
    "@show pvalue_wald(k, n, p);"
   ]
  },
  {
   "cell_type": "code",
   "execution_count": 7,
   "metadata": {},
   "outputs": [
    {
     "data": {
      "image/png": "[encoded data removed]"
     },
     "execution_count": 7,
     "metadata": {},
     "output_type": "execute_result"
    }
   ],
   "source": [
    "k, n = 45, 123\n",
    "xlim = (0.2, 0.6)\n",
    "P1 = plot(p -> pvalue_cp(k, n, p), xlim...;\n",
    "    label=\"\", title=\"Clopper-Pearson (n = $n, k = $k)\")\n",
    "P2 = plot(p -> pvalue_sterne(k, n, p), xlim...;\n",
    "    label=\"\", title=\"Sterne (n = $n, k = $k)\", c=2)\n",
    "P3 = plot(p -> pvalue_wald(k, n, p), xlim...;\n",
    "    label=\"\", title=\"Wald (n = $n, k = $k)\", c=3)\n",
    "P4 = plot(p -> pvalue_wilson(k, n, p), xlim...;\n",
    "    label=\"\", title=\"Wilson (n = $n, k = $k)\", c=4)\n",
    "plot(P1, P2, P3, P4; xguide=\"p = p₀\", yguide=\"P-value\", size=(800, 500))"
   ]
  },
  {
   "cell_type": "code",
   "execution_count": 8,
   "metadata": {},
   "outputs": [
    {
     "name": "stdout",
     "output_type": "stream",
     "text": [
      "[0.24836987983184594, 0.49579181846516285]\n"
     ]
    }
   ],
   "source": [
    "n, k, α = 123, 45, 0.005\n",
    "[quantile(Beta(k, n-k+1), α/2), quantile(Beta(k+1, n-k), 1-α/2)] |> println\n"
   ]
  },
  {
   "cell_type": "code",
   "execution_count": 9,
   "metadata": {},
   "outputs": [
    {
     "data": {
      "text/plain": [
       "2.807033768343816"
      ]
     },
     "execution_count": 9,
     "metadata": {},
     "output_type": "execute_result"
    }
   ],
   "source": [
    "α = 0.005\n",
    "z = quantile(Normal(0,1), 1 - α/2)"
   ]
  },
  {
   "cell_type": "code",
   "execution_count": 10,
   "metadata": {},
   "outputs": [
    {
     "name": "stdout",
     "output_type": "stream",
     "text": [
      "[p_L, p_U] = [0.2439424804010073, 0.4877648366721634]\n",
      "round.([p_L, p_U]; digits = 10) = [0.2439424804, 0.4877648367]\n"
     ]
    }
   ],
   "source": [
    "n, k = 123, 45\n",
    "p̂ = k/n\n",
    "SE = √(p̂*(1 - p̂)/n)\n",
    "p_L, p_U = p̂ - z*SE, p̂ + z*SE\n",
    "@show [p_L, p_U]\n",
    "@show round.([p_L, p_U]; digits=10);"
   ]
  },
  {
   "cell_type": "code",
   "execution_count": 11,
   "metadata": {},
   "outputs": [
    {
     "name": "stdout",
     "output_type": "stream",
     "text": [
      "[p_L, p_U] = [-0.08830154963462508, 0.28830154963462507]\n",
      "round.([p_L, p_U]; digits = 4) = [-0.0883, 0.2883]\n"
     ]
    }
   ],
   "source": [
    "n, k = 20, 2\n",
    "p̂ = k/n\n",
    "SE = √(p̂*(1 - p̂)/n)\n",
    "p_L, p_U = p̂ - z*SE, p̂ + z*SE\n",
    "@show [p_L, p_U]\n",
    "@show round.([p_L, p_U]; digits=4);"
   ]
  },
  {
   "cell_type": "markdown",
   "metadata": {},
   "source": [
    "解答"
   ]
  },
  {
   "cell_type": "markdown",
   "metadata": {},
   "source": [
    "1, 0.003731445755098173\n",
    "\n",
    "2, 0.0020099961916132864\n",
    "\n",
    "3, [0.24836987983184594, 0.49579181846516285]\n",
    "\n",
    "4, [0.2439424804, 0.4877648367]\n",
    " \n",
    "5, 4"
   ]
  },
  {
   "cell_type": "markdown",
   "metadata": {},
   "source": [
    "## 大問2"
   ]
  },
  {
   "cell_type": "code",
   "execution_count": 12,
   "metadata": {},
   "outputs": [
    {
     "data": {
      "text/plain": [
       "plot_T (generic function with 1 method)"
      ]
     },
     "execution_count": 12,
     "metadata": {},
     "output_type": "execute_result"
    }
   ],
   "source": [
    "pdflog(dist, x) = exp(logpdf(dist, exp(x)) + x)\n",
    "\n",
    "@memoize function logmean(dist; a=-1e2, b=1e2)\n",
    "    quadgk(x -> x * pdflog(dist, x), a, b)[1]\n",
    "end\n",
    "\n",
    "@memoize function logvar(dist; a=-1e2, b=1e2)\n",
    "    μ = logmean(dist; a, b)\n",
    "    quadgk(x -> (x - μ)^2 * pdflog(dist, x), a, b)[1]\n",
    "end\n",
    "logstd(dist; a=-1e2, b=1e2) = √logvar(dist; a, b)\n",
    "\n",
    "function plot_T(dist, n; L=10^6,\n",
    "        plot_chi=false, plot_t=false, logsample=false, kwargs...)\n",
    "    if logsample\n",
    "        μ, σ = logmean(dist), logstd(dist)\n",
    "    else\n",
    "        μ, σ = mean(dist), std(dist)\n",
    "    end\n",
    "    println(\"skewness = \", myskewness(dist), \",  kurtosis = \", mykurtosis(dist))\n",
    "    \n",
    "    se = σ/√n\n",
    "    Z = Vector{Float64}(undef, L)\n",
    "    S² = Vector{Float64}(undef, L)\n",
    "    T = Vector{Float64}(undef, L)\n",
    "    tmp = [Vector{eltype(dist)}(undef, n) for _ in 1:nthreads()]\n",
    "    @threads for i in 1:L\n",
    "        X = rand!(dist, tmp[threadid()])\n",
    "        if logsample\n",
    "            @. X = log(X)\n",
    "        end\n",
    "        X̄ = mean(X)\n",
    "        Z[i] = (X̄ - μ)/se\n",
    "        S²[i] = var(X)\n",
    "        T[i] = √n * (X̄ - μ)/√S²[i]\n",
    "    end\n",
    "    \n",
    "    xlim = (-4.0, 5.9)\n",
    "    bin = range(-6, 6, 150)\n",
    "    P = stephist(Z; norm=true, xlim, bin, label=\"Z(μ)\")\n",
    "    plot!(Normal(), xlim...; label=\"Normal(0,1)\", ls=:dash)\n",
    "    plot!(; xtick=-10:10)\n",
    "    \n",
    "    W = .√(S²/σ^2)\n",
    "    xlim = (0, 3)\n",
    "    bin = range(quantile.(Ref(W), (0.0, 0.999))..., 150)\n",
    "    Q = stephist(W; norm=true, xlim, bin, label=\"√(S²/σ²)\")\n",
    "    if plot_chi\n",
    "        plot!(Chi(n-1)/√(n-1), xlim...; label=\"Chi(n-1)/√(n-1)\", ls=:dash)\n",
    "    else\n",
    "        vline!([1]; label=\"\", ls=:dash)\n",
    "    end\n",
    "    plot!(; xtick=range(xlim...; step=0.5))\n",
    "    \n",
    "    xlim = (-4.0, 5.9)\n",
    "    bin = range(-6, 6, 150)\n",
    "    R = stephist(T; norm=true, xlim, bin, label=\"T(μ)\")\n",
    "    if plot_t\n",
    "        plot!(TDist(n-1), xlim...; label=\"TDist(n-1)\", ls=:dash)\n",
    "    else\n",
    "        plot!(Normal(), xlim...; label=\"Normal(0,1)\", ls=:dash)\n",
    "    end\n",
    "    plot!(; xtick=-10:10)\n",
    "    \n",
    "    plot(P, Q, R; size=(800, 200), layout=(1, 3))\n",
    "    plot_title = if logsample\n",
    "        \"Log of $(distname(dist)), n=$n\"\n",
    "    else\n",
    "        \"$(distname(dist)), n=$n\"\n",
    "    end\n",
    "    plot!(; plot_title, plot_titlefontsize=10)\n",
    "    plot!(; kwargs...)\n",
    "end\n",
    "\n",
    "#plot_T(Normal(2, 3), 10; plot_chi=true, plot_t=true)\n",
    "#plot_T(Gamma(2, 3), 10; plot_chi=true, plot_t=true)\n",
    "#plot_T(Gamma(2, 3), 10; plot_chi=true, plot_t=true, logsample=true)"
   ]
  },
  {
   "cell_type": "code",
   "execution_count": 13,
   "metadata": {},
   "outputs": [
    {
     "data": {
      "text/plain": [
       "plot_confint_of_mean (generic function with 1 method)"
      ]
     },
     "execution_count": 13,
     "metadata": {},
     "output_type": "execute_result"
    }
   ],
   "source": [
    "function pvalue_tdist(x̄, s², n, μ)\n",
    "    t = (x̄ - μ)/√(s²/n)\n",
    "    2ccdf(TDist(n-1), abs(t))\n",
    "end\n",
    "\n",
    "function pvalue_tdist(x, μ)\n",
    "    x̄, s², n = mean(x), var(x), length(x)\n",
    "    pvalue_tdist(x̄, s², n, μ)\n",
    "end\n",
    "\n",
    "function confint_tdist(x̄, s², n; α = 0.05)\n",
    "    c = quantile(TDist(n-1), 1-α/2)\n",
    "    [x̄ - c*√(s²/n), x̄ + c*√(s²/n)]\n",
    "end\n",
    "\n",
    "function confint_tdist(x; α = 0.05)\n",
    "    x̄, s², n = mean(x), var(x), length(x)\n",
    "    confint_tdist(x̄, s², n; α)\n",
    "end\n",
    "\n",
    "function show_confint_of_mean(x; μ = mean(x), α = 0.05)\n",
    "    println(\"(P-value of hypothesis \\\"mean = $μ\\\") = \", pvalue_tdist(x, μ))\n",
    "    println(\"($(100(1-α))% confidence interval of mean) = \", confint_tdist(x; α))\n",
    "end\n",
    "\n",
    "function plot_confint_of_mean(x; α = 0.10,\n",
    "        xlim = nothing,\n",
    "        plot_pvaluefunc = false,\n",
    "        xtick=50:10:125, kwargs...)\n",
    "    n = length(x)\n",
    "    if isnothing(xlim)\n",
    "        a, b = extrema(x)\n",
    "        a, b = a - 0.05(b-a), b + 0.05(b-a)\n",
    "    else\n",
    "        a, b = xlim\n",
    "    end\n",
    "    confidence_interval = confint_tdist(x; α)\n",
    "    if plot_pvaluefunc\n",
    "        scatter(x, fill(-0.05, n); label=\"\", msc=:auto, alpha=0.7)\n",
    "        plot!(μ -> pvalue_tdist(x, μ), a, b; label=\"\", c=2)\n",
    "        plot!(confidence_interval, fill(α, 2); label=\"\", lw=3, c=:red)\n",
    "        plot!(; ylim=(-0.1, 1.02), ytick=0:0.1:1, yguide=\"P-value\")\n",
    "        title!(\"P-value function and $(100(1-α))% conf. int. of mean for data of size n=$n\")\n",
    "        plot!(; size=(600, 200), leftmargin=4Plots.mm)\n",
    "    else\n",
    "        scatter(x, fill(-0.05, n); label=\"\", msc=:auto, alpha=0.7)\n",
    "        plot!(confidence_interval, fill(0.06, 2); label=\"\", lw=6, c=:red)\n",
    "        plot!(; ylim=(-0.1, 0.12), yaxis=false, ytick=false)\n",
    "        title!(\"$(100(1-α))% confidence interval of mean for data of size n=$n\")\n",
    "        plot!(; size=(600, 60))\n",
    "    end\n",
    "    plot!(; xlim=(a, b), xtick)\n",
    "    plot!(; kwargs...)\n",
    "end"
   ]
  },
  {
   "cell_type": "code",
   "execution_count": 14,
   "metadata": {},
   "outputs": [
    {
     "data": {
      "text/plain": [
       "11-element Vector{Int64}:\n",
       "  80\n",
       " 111\n",
       "  69\n",
       "  72\n",
       " 123\n",
       " 126\n",
       "  92\n",
       "  91\n",
       "  45\n",
       "  67\n",
       " 114"
      ]
     },
     "execution_count": 14,
     "metadata": {},
     "output_type": "execute_result"
    }
   ],
   "source": [
    "x = [80, 111, 69, 72, 123, 126, 92, 91, 45, 67, 114]"
   ]
  },
  {
   "cell_type": "code",
   "execution_count": 15,
   "metadata": {},
   "outputs": [
    {
     "data": {
      "text/plain": [
       "90.0"
      ]
     },
     "execution_count": 15,
     "metadata": {},
     "output_type": "execute_result"
    }
   ],
   "source": [
    "x̄=mean(x)"
   ]
  },
  {
   "cell_type": "code",
   "execution_count": 16,
   "metadata": {},
   "outputs": [
    {
     "data": {
      "text/plain": [
       "682.6"
      ]
     },
     "execution_count": 16,
     "metadata": {},
     "output_type": "execute_result"
    }
   ],
   "source": [
    "s2=var(x)"
   ]
  },
  {
   "cell_type": "code",
   "execution_count": 17,
   "metadata": {},
   "outputs": [
    {
     "name": "stdout",
     "output_type": "stream",
     "text": [
      "x = [80, 111, 69, 72, 123, 126, 92, 91, 45, 67, 114]\n",
      "n = 11\n",
      "x̄ = 90.0\n",
      "s² = 682.6\n",
      "\n",
      "t_value = -1.9041644801378617\n",
      "P_value = 0.08602945945697997\n",
      "\n",
      "α = 0.1\n",
      "c = 1.8124611228116756\n",
      "confidence_interval = [75.72239051523175, 104.27760948476825]\n"
     ]
    }
   ],
   "source": [
    "x = [80, 111, 69, 72, 123, 126, 92, 91, 45, 67, 114]\n",
    "n = length(x)\n",
    "x̄ = mean(x)\n",
    "s² = var(x)\n",
    "\n",
    "μ = 105\n",
    "t_value = (x̄ - μ)/√(s²/n)\n",
    "P_value = 2ccdf(TDist(n-1), abs(t_value))\n",
    "\n",
    "α = 0.10\n",
    "c = quantile(TDist(n-1), 1 - α/2)\n",
    "confidence_interval = [x̄ - c*√(s²/n), x̄ + c*√(s²/n)]\n",
    "\n",
    "@show x n x̄ s²\n",
    "println()\n",
    "@show t_value P_value\n",
    "println()\n",
    "@show α c confidence_interval;"
   ]
  },
  {
   "cell_type": "code",
   "execution_count": 18,
   "metadata": {},
   "outputs": [
    {
     "data": {
      "image/png": "[encoded data removed]"
     },
     "execution_count": 18,
     "metadata": {},
     "output_type": "execute_result"
    }
   ],
   "source": [
    "plot_confint_of_mean(x; α)"
   ]
  },
  {
   "cell_type": "code",
   "execution_count": 19,
   "metadata": {},
   "outputs": [
    {
     "data": {
      "image/png": "[encoded data removed]"
     },
     "execution_count": 19,
     "metadata": {},
     "output_type": "execute_result"
    }
   ],
   "source": [
    "plot_confint_of_mean(x; plot_pvaluefunc=true)"
   ]
  },
  {
   "cell_type": "markdown",
   "metadata": {},
   "source": [
    "## 解答"
   ]
  },
  {
   "cell_type": "markdown",
   "metadata": {},
   "source": [
    "1, xbar= 90.0\n",
    "\n",
    "2, s2= 682.6\n",
    "\n",
    "3, P_value = 0.08602945945697997\n",
    "\n",
    "4, confidence_interval = [75.72239051523175, 104.27760948476825]\n",
    "\n",
    "5, 1\n"
   ]
  },
  {
   "cell_type": "markdown",
   "metadata": {},
   "source": [
    "## 大問3"
   ]
  },
  {
   "cell_type": "markdown",
   "metadata": {},
   "source": [
    "コードは大問8にある"
   ]
  },
  {
   "cell_type": "markdown",
   "metadata": {},
   "source": [
    "pvalue_rr_wald(a, b, c, d; ρ = 0.9) = 0.03608976031307245\n",
    "\n",
    "pvalue_or_wald(a, b, c, d; ω = 0.9) = 0.030066296229886037\n",
    "\n",
    "confint_rr_wald(a, b, c, d; α = 0.05) = [0.3363886834579713, 0.870795692322426]\n",
    "\n",
    "confint_or_wald(a, b, c, d; α = 0.05) = [0.288799214494071, 0.8496230536999794]\n",
    "\n",
    "5, 1"
   ]
  },
  {
   "cell_type": "markdown",
   "metadata": {},
   "source": [
    "## 大問4"
   ]
  },
  {
   "cell_type": "code",
   "execution_count": 20,
   "metadata": {},
   "outputs": [
    {
     "data": {
      "text/plain": [
       "confint_welch (generic function with 2 methods)"
      ]
     },
     "execution_count": 20,
     "metadata": {},
     "output_type": "execute_result"
    }
   ],
   "source": [
    "# 確率分布を扱う場合には常に以下を前もって実行しておく.\n",
    "\n",
    "using Distributions\n",
    "\n",
    "# t値の計算の仕方 (デフォルトで Δμ = 0 にしておく)\n",
    "\n",
    "function tvalue_welch(m, x̄, sx², n, ȳ, sy²; Δμ=0)\n",
    "    (x̄ - ȳ - Δμ) / √(sx²/m + sy²/n)\n",
    "end\n",
    "\n",
    "function tvalue_welch(x, y; Δμ=0)\n",
    "    m, x̄, sx² = length(x), mean(x), var(x)\n",
    "    n, ȳ, sy² = length(y), mean(y), var(y)\n",
    "    tvalue_welch(m, x̄, sx², n, ȳ, sy²; Δμ)\n",
    "end\n",
    "\n",
    "# 自由度 ν の計算の仕方\n",
    "\n",
    "function degree_of_freedom_welch(m, sx², n, sy²)\n",
    "    (sx²/m + sy²/n)^2 / ((sx²/m)^2/(m-1) + (sy²/n)^2/(n-1))\n",
    "end\n",
    "\n",
    "function degree_of_freedom_welch(x, y)\n",
    "    m, sx² = length(x), var(x)\n",
    "    n, sy² = length(y), var(y)\n",
    "    degree_of_freedom_welch(m, sx², n, sy²)\n",
    "end\n",
    "\n",
    "# P値の計算の仕方\n",
    "\n",
    "function pvalue_welch(m, x̄, sx², n, ȳ, sy²; Δμ=0)\n",
    "    t = tvalue_welch(m, x̄, sx², n, ȳ, sy²; Δμ)\n",
    "    ν = degree_of_freedom_welch(m, sx², n, sy²)\n",
    "    2ccdf(TDist(ν), abs(t))\n",
    "end\n",
    "\n",
    "function pvalue_welch(x, y; Δμ=0)\n",
    "    m, x̄, sx² = length(x), mean(x), var(x)\n",
    "    n, ȳ, sy² = length(y), mean(y), var(y)\n",
    "    pvalue_welch(m, x̄, sx², n, ȳ, sy²; Δμ)\n",
    "end\n",
    "\n",
    "# 信頼区間の計算の仕方 (デフォルトでは α = 0.05 にしておく)\n",
    "\n",
    "function confint_welch(m, x̄, sx², n, ȳ, sy²; α=0.05)\n",
    "    ν = degree_of_freedom_welch(m, sx², n, sy²)\n",
    "    c = quantile(TDist(ν), 1-α/2)\n",
    "    SEhat = √(sx²/m + sy²/n)\n",
    "    [x̄-ȳ-c*SEhat, x̄-ȳ+c*SEhat]\n",
    "end\n",
    "\n",
    "function confint_welch(x, y; α=0.05)\n",
    "    m, x̄, sx² = length(x), mean(x), var(x)\n",
    "    n, ȳ, sy² = length(y), mean(y), var(y)\n",
    "    confint_welch(m, x̄, sx², n, ȳ, sy²; α)\n",
    "end"
   ]
  },
  {
   "cell_type": "code",
   "execution_count": 21,
   "metadata": {},
   "outputs": [],
   "source": [
    "x = [162.0, 221.5, 259.3, 306.8, 184.6, 181.9, 154.8, 147.6, 240.8, 243.5,\n",
    "209.3, 270.0, 170.4, 183.0, 236.7, 173.4, 212.6, 237.3, 269.4, 211.8];\n",
    "y = [101.7, 198.0, 276.2, 120.6, 204.1, 183.6, 316.8, 167.7, 291.4, 150.1,\n",
    "271.2, 258.4, 200.1, 111.4, 110.3, 178.3, 167.9, 141.3, 185.6, 58.2,\n",
    "220.1, 282.8, 139.5, 80.8, 107.0, 177.9, 220.2, 219.7, 195.6, 116.3];"
   ]
  },
  {
   "cell_type": "code",
   "execution_count": 22,
   "metadata": {},
   "outputs": [
    {
     "name": "stdout",
     "output_type": "stream",
     "text": [
      "degree_of_freedom_welch(x, y) = 47.998721581675596\n"
     ]
    },
    {
     "data": {
      "text/plain": [
       "47.998721581675596"
      ]
     },
     "execution_count": 22,
     "metadata": {},
     "output_type": "execute_result"
    }
   ],
   "source": [
    "@show degree_of_freedom_welch(x, y)"
   ]
  },
  {
   "cell_type": "code",
   "execution_count": 23,
   "metadata": {},
   "outputs": [
    {
     "data": {
      "text/plain": [
       "0.04594695742760926"
      ]
     },
     "execution_count": 23,
     "metadata": {},
     "output_type": "execute_result"
    }
   ],
   "source": [
    "pval1 = pvalue_welch(x, y; Δμ = 0)"
   ]
  },
  {
   "cell_type": "code",
   "execution_count": 24,
   "metadata": {},
   "outputs": [
    {
     "data": {
      "text/plain": [
       "0.04070350839019126"
      ]
     },
     "execution_count": 24,
     "metadata": {},
     "output_type": "execute_result"
    }
   ],
   "source": [
    "pval2 = pvalue_welch(x, y; Δμ = 65)"
   ]
  },
  {
   "cell_type": "code",
   "execution_count": 25,
   "metadata": {},
   "outputs": [
    {
     "name": "stdout",
     "output_type": "stream",
     "text": [
      "[0.601018722054544, 63.54898127794549]"
     ]
    }
   ],
   "source": [
    "ci3 = confint_welch(x, y; α = 0.05)\n",
    "print(ci3)"
   ]
  },
  {
   "cell_type": "code",
   "execution_count": 26,
   "metadata": {},
   "outputs": [
    {
     "name": "stdout",
     "output_type": "stream",
     "text": [
      "xlim = confint_welch(x, y; α = 0.05) = [0.601018722054544, 63.54898127794549]\n"
     ]
    },
    {
     "data": {
      "image/png": "[encoded data removed]"
     },
     "execution_count": 26,
     "metadata": {},
     "output_type": "execute_result"
    }
   ],
   "source": [
    "@show xlim = confint_welch(x, y; α=0.05)\n",
    "plot(Δμ -> pvalue_welch(x, y; Δμ), xlim...; label=\"P-value function\", c=:black)\n",
    "vline!([mean(x) - mean(y)]; label=\"Δμ = x̄ - ȳ\", ls=:dash, c=2)\n",
    "plot!(ci3, fill(0.05, 2); label=\"95% conf. int.\", lw=2, c=3)\n",
    "scatter!([0], [0.05]; label=\"sig. level α = 5%\", c=3, msc=:auto)\n",
    "vline!([0]; label=\"\", lw=0.5, c=:black)\n",
    "scatter!([0], [pval1]; label=\"P-value of Δμ = 0\", c=:red, msc=:auto)\n",
    "plot!(xguide=\"μ_x - μ_y = Δμ\", yguide=\"P-value\")\n",
    "plot!(ytick=0:0.05:1)\n",
    "plot!(size=(640, 350))"
   ]
  },
  {
   "cell_type": "markdown",
   "metadata": {},
   "source": [
    "解答"
   ]
  },
  {
   "cell_type": "markdown",
   "metadata": {},
   "source": [
    "1,47.998721581675596\n",
    "\n",
    "2, 0.04594695742760926\n",
    "\n",
    "3, 0.04070350839019126\n",
    "\n",
    "4, [0.601018722054544, 63.54898127794549]\n",
    "\n",
    "5, 4"
   ]
  },
  {
   "cell_type": "markdown",
   "metadata": {},
   "source": [
    "## 大問5"
   ]
  },
  {
   "cell_type": "markdown",
   "metadata": {},
   "source": [
    "a 0 \n",
    "\n",
    "b 1 \n",
    "\n",
    "c 1\n",
    "\n",
    "d 0\n",
    "\n",
    "e 1\n",
    "\n",
    "f 1\n",
    "\n",
    "g 1   0??? 差じゃなくて比\n",
    "\n",
    "h 1\n",
    "\n",
    "i 1\n",
    "\n",
    "j 0 \n",
    "\n",
    "k 0\n",
    "\n",
    "l 1\n",
    "\n",
    "m 1\n",
    "\n",
    "n 1\n",
    "\n",
    "o 1\n",
    "\n",
    "p 0\n",
    "\n",
    "q 1\n",
    "\n",
    "r 1   00??\n",
    "\n",
    "s 0\n",
    "\n",
    "t 1 0??\n"
   ]
  },
  {
   "cell_type": "markdown",
   "metadata": {},
   "source": [
    "## 必修ではない問題"
   ]
  },
  {
   "cell_type": "markdown",
   "metadata": {},
   "source": [
    "## 大問6"
   ]
  },
  {
   "cell_type": "code",
   "execution_count": 27,
   "metadata": {},
   "outputs": [],
   "source": [
    "x = [\n",
    "61.1, 62.6, 64.1, 65.4, 66.5, 67.4, 67.9, 68.2, 68.1, 67.8,\n",
    "67.1, 66.2, 65.0, 63.6, 62.1, 60.5, 58.9, 57.4, 55.9, 54.6,\n",
    "53.5, 52.6, 52.1, 51.8, 51.9, 58.2, 57.3, 56.5, 55.6, 54.7,\n",
    "61.1, 60.0, 59.0, 58.0, 57.0, 57.0, 57.2, 57.5, 57.7, 58.0,\n",
    "51.9, 51.6, 51.4, 51.2, 51.0, 51.0, 52.0, 53.0, 54.0, 55.0,\n",
    "64.0, 63.2, 62.2, 61.5, 61.3, 61.8, 62.8, 63.7, 64.2, 64.0,\n",
    "58.5, 57.7, 56.7, 56.0, 55.8, 56.3, 57.3, 58.2, 58.7, 58.5,\n",
    "58.5, 57.7, 56.7, 56.0, 55.8, 56.3, 57.3, 58.2, 58.7, 58.5,\n",
    "62.5, 62.1, 61.6, 61.3, 61.4, 61.7, 62.2, 62.6, 62.7, 62.5,\n",
    "64.0, 64.3, 64.0, 63.2, 62.5, 62.5, 62.8, 62.5, 61.8, 61.0,\n",
    "65.0, 66.2, 67.5, 68.8, 70.0, 60.0, 58.8, 57.5, 56.2, 55.0,\n",
    "64.5, 65.6, 66.8, 67.9, 69.0, 59.5, 58.1, 56.8, 55.4, 54.0,\n",
    "65.5, 66.9, 68.2, 69.6, 71.0, 60.5, 59.4, 58.2, 57.1, 56.0,\n",
    "];\n",
    "y = [\n",
    "239.1, 239.5, 237.3, 232.8, 226.0, 217.2, 206.7, 195.0, 182.5, 169.6,\n",
    "156.9, 144.9, 134.0, 124.6, 117.1, 111.9, 108.9, 108.5, 110.7, 115.2,\n",
    "122.0, 130.8, 141.3, 153.0, 165.5, 216.3, 209.3, 202.3, 195.3, 188.3,\n",
    "239.1, 240.9, 242.7, 244.5, 246.3, 246.3, 238.3, 230.3, 222.3, 214.3,\n",
    "165.5, 173.7, 181.9, 190.1, 198.3, 198.3, 196.3, 194.3, 192.3, 190.3,\n",
    "206.0, 207.5, 203.6, 196.2, 188.7, 184.6, 185.8, 191.8, 199.8, 206.0,\n",
    "162.0, 163.5, 159.6, 152.2, 144.7, 140.6, 141.8, 147.8, 155.8, 162.0,\n",
    "162.0, 163.5, 159.6, 152.2, 144.7, 140.6, 141.8, 147.8, 155.8, 162.0,\n",
    "162.0, 163.6, 162.6, 159.5, 155.6, 152.9, 152.5, 154.8, 158.5, 162.0,\n",
    "166.0, 160.0, 154.0, 151.5, 154.0, 154.0, 148.0, 142.0, 139.5, 142.0,\n",
    "174.0, 184.0, 194.0, 204.0, 214.0, 134.0, 124.0, 114.0, 104.0, 94.0,\n",
    "178.0, 189.0, 200.0, 211.0, 222.0, 138.0, 129.0, 120.0, 111.0, 102.0,\n",
    "170.0, 179.0, 188.0, 197.0, 206.0, 130.0, 119.0, 108.0, 97.0, 86.0,\n",
    "];"
   ]
  },
  {
   "cell_type": "code",
   "execution_count": 28,
   "metadata": {},
   "outputs": [
    {
     "data": {
      "text/plain": [
       "60.15"
      ]
     },
     "execution_count": 28,
     "metadata": {},
     "output_type": "execute_result"
    }
   ],
   "source": [
    "x̄=mean(x)   "
   ]
  },
  {
   "cell_type": "code",
   "execution_count": 29,
   "metadata": {},
   "outputs": [
    {
     "data": {
      "text/plain": [
       "23.696472868217057"
      ]
     },
     "execution_count": 29,
     "metadata": {},
     "output_type": "execute_result"
    }
   ],
   "source": [
    "sx²=var(x)"
   ]
  },
  {
   "cell_type": "code",
   "execution_count": 30,
   "metadata": {},
   "outputs": [
    {
     "data": {
      "text/plain": [
       "169.95"
      ]
     },
     "execution_count": 30,
     "metadata": {},
     "output_type": "execute_result"
    }
   ],
   "source": [
    "ȳ=mean(y)"
   ]
  },
  {
   "cell_type": "code",
   "execution_count": 31,
   "metadata": {},
   "outputs": [
    {
     "data": {
      "text/plain": [
       "1500.6981782945736"
      ]
     },
     "execution_count": 31,
     "metadata": {},
     "output_type": "execute_result"
    }
   ],
   "source": [
    "sy²=var(y)"
   ]
  },
  {
   "cell_type": "code",
   "execution_count": 32,
   "metadata": {},
   "outputs": [
    {
     "data": {
      "text/plain": [
       "51.99949612403102"
      ]
     },
     "execution_count": 32,
     "metadata": {},
     "output_type": "execute_result"
    }
   ],
   "source": [
    "sxy=cov(x,y)"
   ]
  },
  {
   "cell_type": "code",
   "execution_count": 33,
   "metadata": {},
   "outputs": [
    {
     "data": {
      "text/plain": [
       "plot_ols (generic function with 1 method)"
      ]
     },
     "execution_count": 33,
     "metadata": {},
     "output_type": "execute_result"
    }
   ],
   "source": [
    "# プロット用函数\n",
    "function plot_ols(x, y, α̂, β̂; xlim=nothing, ylim=nothing,\n",
    "    title=\"data and regression line\", kwargs...)\n",
    "a, b = extrema(x)\n",
    "isnothing(xlim) && (xlim = (a - 0.1(b-a), b + 0.1(b-a)))\n",
    "scatter(x, y; label=\"\", msw=0)\n",
    "plot!(x -> α̂ + β̂*x, xlim...; label=\"\", lw=2)\n",
    "plot!(; xlabel=\"x\", ylabel=\"y\", msw=0)\n",
    "plot!(; size=(400, 300))\n",
    "plot!(; title, kwargs...)\n",
    "end"
   ]
  },
  {
   "cell_type": "code",
   "execution_count": 34,
   "metadata": {},
   "outputs": [
    {
     "data": {
      "text/plain": [
       "solve_anscombe (generic function with 1 method)"
      ]
     },
     "execution_count": 34,
     "metadata": {},
     "output_type": "execute_result"
    }
   ],
   "source": [
    "function solve_anscombe(x, y;title)\n",
    "    \n",
    "@show x̄ = mean(x)\n",
    "@show ȳ = mean(y)\n",
    "@show sx² = var(x)*129/130\n",
    "@show sy² = var(y)*129/130\n",
    "@show sxy = cov(x, y)*129/130\n",
    "β̂ = sxy/sx²\n",
    "α̂ = ȳ - β̂*x̄\n",
    "σ̂ = √((n - 1)/n*(sx²*sy² - sxy^2)/sx²)\n",
    "σ̂²=(sx²*sy² - sxy^2)/sx²\n",
    "@show α̂ β̂ σ̂  σ̂²\n",
    "\n",
    "plot_ols(x, y, α̂, β̂)\n",
    "end"
   ]
  },
  {
   "cell_type": "code",
   "execution_count": 35,
   "metadata": {},
   "outputs": [
    {
     "name": "stdout",
     "output_type": "stream",
     "text": [
      "x̄ = mean(x) = 60.15\n",
      "ȳ = mean(y) = 169.95\n",
      "sx² = (var(x) * 129) / 130 = 23.51419230769231\n",
      "sy² = (var(y) * 129) / 130 = 1489.154346153846\n",
      "sxy = (cov(x, y) * 129) / 130 = 51.59950000000001\n",
      "α̂ = 37.956951530090635\n",
      "β̂ = 2.1943981458006543\n",
      "σ̂ = 35.367222871795825\n",
      "σ̂² = 1375.9244990296054\n"
     ]
    },
    {
     "data": {
      "image/png": "[encoded data removed]"
     },
     "execution_count": 35,
     "metadata": {},
     "output_type": "execute_result"
    }
   ],
   "source": [
    "PA1 = solve_anscombe(x, y , title=\"\")"
   ]
  },
  {
   "cell_type": "code",
   "execution_count": 36,
   "metadata": {},
   "outputs": [
    {
     "name": "stdout",
     "output_type": "stream",
     "text": [
      "sx² = var(x) = 23.696472868217057\n",
      "sy² = var(y) = 1500.6981782945736\n",
      "sxy = cov(x, y) = 51.99949612403102\n"
     ]
    }
   ],
   "source": [
    "@show sx² = var(x)\n",
    "@show sy² = var(y)\n",
    "@show sxy = cov(x, y);"
   ]
  },
  {
   "cell_type": "markdown",
   "metadata": {},
   "source": [
    "## 解答"
   ]
  },
  {
   "cell_type": "markdown",
   "metadata": {},
   "source": [
    "xbar=60.15\n",
    "\n",
    "ybar=169.95\n",
    "\n",
    "#  sigma2_x=23.696472868217057\n",
    "\n",
    "# sigma2_y=1500.6981782945736\n",
    "\n",
    "# sigma_xy=51.99949612403102\n",
    "\n",
    "betahat0=37.956951530090635\n",
    "\n",
    "betahat1=2.1943981458006543\n",
    "# sigmahat2=1317.26105139656"
   ]
  },
  {
   "cell_type": "markdown",
   "metadata": {},
   "source": [
    "## 大問7"
   ]
  },
  {
   "cell_type": "markdown",
   "metadata": {},
   "source": [
    "## 解答\n",
    "__cat__"
   ]
  },
  {
   "cell_type": "markdown",
   "metadata": {},
   "source": [
    "## 大問8  "
   ]
  },
  {
   "cell_type": "code",
   "execution_count": 37,
   "metadata": {},
   "outputs": [],
   "source": [
    "# Override the Base.show definition of SymPy.jl:\n",
    "# https://github.com/JuliaPy/SymPy.jl/blob/29c5bfd1d10ac53014fa7fef468bc8deccadc2fc/src/types.jl#L87-L105\n",
    "\n",
    "@eval SymPy function Base.show(io::IO, ::MIME\"text/latex\", x::SymbolicObject)\n",
    "    print(io, as_markdown(\"\\\\displaystyle \" *\n",
    "            sympy.latex(x, mode=\"plain\", fold_short_frac=false)))\n",
    "end\n",
    "@eval SymPy function Base.show(io::IO, ::MIME\"text/latex\", x::AbstractArray{Sym})\n",
    "    function toeqnarray(x::Vector{Sym})\n",
    "        a = join([\"\\\\displaystyle \" *\n",
    "                sympy.latex(x[i]) for i in 1:length(x)], \"\\\\\\\\\")\n",
    "        \"\"\"\\\\left[ \\\\begin{array}{r}$a\\\\end{array} \\\\right]\"\"\"\n",
    "    end\n",
    "    function toeqnarray(x::AbstractArray{Sym,2})\n",
    "        sz = size(x)\n",
    "        a = join([join(\"\\\\displaystyle \" .* map(sympy.latex, x[i,:]), \"&\")\n",
    "                for i in 1:sz[1]], \"\\\\\\\\\")\n",
    "        \"\\\\left[ \\\\begin{array}{\" * repeat(\"r\",sz[2]) * \"}\" * a * \"\\\\end{array}\\\\right]\"\n",
    "    end\n",
    "    print(io, as_markdown(toeqnarray(x)))\n",
    "end"
   ]
  },
  {
   "cell_type": "code",
   "execution_count": 38,
   "metadata": {},
   "outputs": [
    {
     "data": {
      "text/plain": [
       "mykurtosis (generic function with 2 methods)"
      ]
     },
     "execution_count": 38,
     "metadata": {},
     "output_type": "execute_result"
    }
   ],
   "source": [
    "safemul(x, y) = x == 0 ? x : isinf(x) ? typeof(x)(Inf) : x*y\n",
    "safediv(x, y) = x == 0 ? x : isinf(y) ? zero(y) : x/y\n",
    "\n",
    "x ⪅ y = x < y || x ≈ y\n",
    "\n",
    "mypdf(dist, x) = pdf(dist, x)\n",
    "mypdf(dist::DiscreteUnivariateDistribution, x) = pdf(dist, round(Int, x))\n",
    "\n",
    "distname(dist::Distribution) = replace(string(dist), r\"{.*}\" => \"\")\n",
    "myskewness(dist) = skewness(dist)\n",
    "mykurtosis(dist) = kurtosis(dist)\n",
    "function standardized_moment(dist::ContinuousUnivariateDistribution, m)\n",
    "    μ, σ = mean(dist), std(dist)\n",
    "    quadgk(x -> (x - μ)^m * pdf(dist, x), extrema(dist)...)[1] / σ^m\n",
    "end\n",
    "myskewness(dist::MixtureModel{Univariate, Continuous}) =\n",
    "    standardized_moment(dist, 3)\n",
    "mykurtosis(dist::MixtureModel{Univariate, Continuous}) =\n",
    "    standardized_moment(dist, 4) - 3"
   ]
  },
  {
   "cell_type": "code",
   "execution_count": 39,
   "metadata": {},
   "outputs": [
    {
     "data": {
      "text/plain": [
       "confint_or_wald (generic function with 1 method)"
      ]
     },
     "execution_count": 39,
     "metadata": {},
     "output_type": "execute_result"
    }
   ],
   "source": [
    "oddsratiohat(a, b, c, d) = safediv(a*d, b*c)\n",
    "stderr_logoddsratiohat(a, b, c, d) = √(1/a + 1/b + 1/c + 1/d)\n",
    "\n",
    "function pvalue_or_wald(a, b, c, d; ω=1)\n",
    "    logORhat = log(oddsratiohat(a, b, c, d))\n",
    "    SEhat_logORhat = stderr_logoddsratiohat(a, b, c, d)\n",
    "    2ccdf(Normal(0, 1), safediv(abs(logORhat - log(ω)), SEhat_logORhat))\n",
    "end\n",
    "\n",
    "function confint_or_wald(a, b, c, d; α=0.05)\n",
    "    z = quantile(Normal(), 1-α/2)\n",
    "    ORhat = oddsratiohat(a, b, c, d)\n",
    "    SEhat_logORhat = stderr_logoddsratiohat(a, b, c, d)\n",
    "    [safemul(exp(-z*SEhat_logORhat), ORhat), safemul(exp(z*SEhat_logORhat), ORhat)]\n",
    "end"
   ]
  },
  {
   "cell_type": "code",
   "execution_count": 40,
   "metadata": {},
   "outputs": [
    {
     "name": "stdout",
     "output_type": "stream",
     "text": [
      "confint_or_wald(0, 1, 1, 1) = [0.0, Inf]\n",
      "confint_or_wald(0.0001, 1, 1, 1) = [7.363403724036157e-90, 1.3580675968312418e81]\n",
      "confint_or_wald(1, 0, 1, 1) = [0.0, Inf]\n",
      "confint_or_wald(1, 0.0001, 1, 1) = [7.363403724036156e-82, 1.3580675968312418e89]\n",
      "confint_or_wald(1, 1, 0, 1) = [0.0, Inf]\n",
      "confint_or_wald(1, 1, 0.0001, 1) = [7.363403724036156e-82, 1.3580675968312418e89]\n",
      "confint_or_wald(1, 1, 1, 0) = [0.0, Inf]\n",
      "confint_or_wald(1, 1, 1, 0.0001) = [7.363403724036157e-90, 1.3580675968312418e81]\n",
      "confint_or_wald(0, 0, 1, 1) = [0.0, Inf]\n",
      "confint_or_wald(0.0001, 0.0001, 1, 1) = [4.1295675438516624e-121, 2.4215610699693177e120]\n",
      "confint_or_wald(1, 1, 0, 0) = [0.0, Inf]\n",
      "confint_or_wald(1, 1, 0.0001, 0.0001) = [4.1295675438516624e-121, 2.4215610699693177e120]\n",
      "confint_or_wald(0, 1, 0, 1) = [0.0, Inf]\n",
      "confint_or_wald(0.0001, 1, 0.0001, 1) = [4.1295675438516624e-121, 2.4215610699693177e120]\n",
      "confint_or_wald(1, 0, 1, 0) = [0.0, Inf]\n",
      "confint_or_wald(1, 0.0001, 1, 0.0001) = [4.1295675438516624e-121, 2.4215610699693177e120]\n"
     ]
    }
   ],
   "source": [
    "@show confint_or_wald(0, 1, 1, 1) confint_or_wald(1e-4, 1, 1, 1)\n",
    "@show confint_or_wald(1, 0, 1, 1) confint_or_wald(1, 1e-4, 1, 1)\n",
    "@show confint_or_wald(1, 1, 0, 1) confint_or_wald(1, 1, 1e-4, 1)\n",
    "@show confint_or_wald(1, 1, 1, 0) confint_or_wald(1, 1, 1, 1e-4)\n",
    "@show confint_or_wald(0, 0, 1, 1) confint_or_wald(1e-4, 1e-4, 1, 1)\n",
    "@show confint_or_wald(1, 1, 0, 0) confint_or_wald(1, 1, 1e-4, 1e-4)\n",
    "@show confint_or_wald(0, 1, 0, 1) confint_or_wald(1e-4, 1, 1e-4, 1)\n",
    "@show confint_or_wald(1, 0, 1, 0) confint_or_wald(1, 1e-4, 1, 1e-4);"
   ]
  },
  {
   "cell_type": "code",
   "execution_count": 41,
   "metadata": {},
   "outputs": [
    {
     "data": {
      "text/plain": [
       "confint_rr_wald (generic function with 1 method)"
      ]
     },
     "execution_count": 41,
     "metadata": {},
     "output_type": "execute_result"
    }
   ],
   "source": [
    "riskratiohat(a, b, c, d) = safediv(a*(c+d), (a+b)*c)\n",
    "stderr_logriskratiohat(a, b, c, d) = √(1/a - 1/(a+b) + 1/c - 1/(c+d))\n",
    "\n",
    "function pvalue_rr_wald(a, b, c, d; ρ=1)\n",
    "    (a+b==0 || c+d==0) && return 1.0\n",
    "    logRRhat = log(riskratiohat(a, b, c, d))\n",
    "    SEhat_logRRhat = stderr_logriskratiohat(a, b, c, d)\n",
    "    2ccdf(Normal(0, 1), safediv(abs(logRRhat - log(ρ)), SEhat_logRRhat))\n",
    "end\n",
    "\n",
    "function confint_rr_wald(a, b, c, d; α=0.05)\n",
    "    (a+b==0 || c+d==0) && return [0, Inf]\n",
    "    z = quantile(Normal(), 1-α/2)\n",
    "    RRhat = riskratiohat(a, b, c, d)\n",
    "    SEhat_logRRhat = stderr_logriskratiohat(a, b, c, d)\n",
    "    [safemul(exp(-z*SEhat_logRRhat), RRhat), safemul(exp(z*SEhat_logRRhat), RRhat)]\n",
    "end"
   ]
  },
  {
   "cell_type": "code",
   "execution_count": 42,
   "metadata": {},
   "outputs": [
    {
     "name": "stdout",
     "output_type": "stream",
     "text": [
      "confint_rr_wald(0, 1, 1, 1) = [0.0, Inf]\n",
      "confint_rr_wald(0.0001, 1, 1, 1) = [1.5239118697601845e-89, 2.62429881894243e81]\n",
      "confint_rr_wald(1, 0, 1, 1) = [0.5001953065198115, 7.996876315834783]\n",
      "confint_rr_wald(1, 0.0001, 1, 1) = [0.5000759918604454, 7.997184798065742]\n",
      "confint_rr_wald(1, 1, 0, 1) = [0.0, Inf]\n",
      "confint_rr_wald(1, 1, 0.0001, 1) = [3.810541668433138e-82, 6.562059262373016e88]\n",
      "confint_rr_wald(1, 1, 1, 0) = [0.12504882662995287, 1.9992190789586957]\n",
      "confint_rr_wald(1, 1, 1, 0.0001) = [0.12504400301489435, 1.999696078749301]\n",
      "confint_rr_wald(0, 0, 1, 1) = [0.0, Inf]\n",
      "confint_rr_wald(0.0001, 0.0001, 1, 1) = [6.426171133615772e-61, 1.5561365846124554e60]\n",
      "confint_rr_wald(1, 1, 0, 0) = [0.0, Inf]\n",
      "confint_rr_wald(1, 1, 0.0001, 0.0001) = [6.426171133615772e-61, 1.5561365846124554e60]\n",
      "confint_rr_wald(0, 1, 0, 1) = [0.0, Inf]\n",
      "confint_rr_wald(0.0001, 1, 0.0001, 1) = [4.245626444711269e-121, 2.3553650162644178e120]\n",
      "confint_rr_wald(1, 0, 1, 0) = [1.0, 1.0]\n",
      "confint_rr_wald(1, 0.0001, 1, 0.0001) = [0.9726638925089683, 1.0281043716144522]\n"
     ]
    }
   ],
   "source": [
    "@show confint_rr_wald(0, 1, 1, 1) confint_rr_wald(1e-4, 1, 1, 1)\n",
    "@show confint_rr_wald(1, 0, 1, 1) confint_rr_wald(1, 1e-4, 1, 1)\n",
    "@show confint_rr_wald(1, 1, 0, 1) confint_rr_wald(1, 1, 1e-4, 1)\n",
    "@show confint_rr_wald(1, 1, 1, 0) confint_rr_wald(1, 1, 1, 1e-4)\n",
    "@show confint_rr_wald(0, 0, 1, 1) confint_rr_wald(1e-4, 1e-4, 1, 1)\n",
    "@show confint_rr_wald(1, 1, 0, 0) confint_rr_wald(1, 1, 1e-4, 1e-4)\n",
    "@show confint_rr_wald(0, 1, 0, 1) confint_rr_wald(1e-4, 1, 1e-4, 1)\n",
    "@show confint_rr_wald(1, 0, 1, 0) confint_rr_wald(1, 1e-4, 1, 1e-4);"
   ]
  },
  {
   "cell_type": "code",
   "execution_count": 43,
   "metadata": {},
   "outputs": [],
   "source": [
    "# 警告: 以下の実装の精度は低い. 改良の仕方が\n",
    "# \n",
    "# Kenneth J. Rothman, Sander Greenland, and Timothy L. Lash\n",
    "# Modern Epistemology, Third Edition, 2008, 888 pages\n",
    "#\n",
    "# の\n",
    "#\n",
    "# Chapter 14. Instroduction to Categorical Statistics\n",
    "# Section. Two Study Groups: Large-Sample Methods, pp.299-300\n",
    "#\n",
    "# に書いてある. そこでは, 次の文献が引用されている:\n",
    "#\n",
    "# Guangyong Zou and Allan Donner\n",
    "# A simple alternative confidence interval for the difference between two proportions\n",
    "# Controlled Clinical Trials, Volume 25, Issue 1, February 2004, Pages 3-12\n",
    "# https://doi.org/10.1016/j.cct.2003.08.010\n",
    "#\n",
    "# Zou-Donnerの信頼区間に対応するP値函数の実装については\n",
    "#\n",
    "# https://github.com/genkuroki/public/blob/main/0033/probability%20of%20alpha%20error%20of%20Zou-Donner.ipynb\n",
    "#\n",
    "# を参照せよ."
   ]
  },
  {
   "cell_type": "code",
   "execution_count": 44,
   "metadata": {},
   "outputs": [
    {
     "data": {
      "text/plain": [
       "confint_rd_wald (generic function with 1 method)"
      ]
     },
     "execution_count": 44,
     "metadata": {},
     "output_type": "execute_result"
    }
   ],
   "source": [
    "riskdiffhat(a, b, c, d) = safediv(a, a+b) - safediv(c, c+d)\n",
    "\n",
    "function stderr_riskdiffhat(a, b, c, d)\n",
    "    m, n = a+b, c+d\n",
    "    p̂, q̂ = safediv(a, m), safediv(c, n)\n",
    "    √(safediv(p̂*(1-p̂), m) + safediv(q̂*(1-q̂), n))\n",
    "end\n",
    "\n",
    "function pvalue_rd_wald(a, b, c, d; Δ=0)\n",
    "    RDhat = riskdiffhat(a, b, c, d)\n",
    "    SEhat_riskdiffhat = stderr_riskdiffhat(a, b, c, d)\n",
    "    2ccdf(Normal(0, 1), safediv(abs(RDhat - Δ), SEhat_riskdiffhat))\n",
    "end\n",
    "\n",
    "function confint_rd_wald(a, b, c, d; α=0.05)\n",
    "    z = quantile(Normal(), 1-α/2)\n",
    "    RDhat = riskdiffhat(a, b, c, d)\n",
    "    SEhat_riskdiffhat = stderr_riskdiffhat(a, b, c, d)\n",
    "    [RDhat - z*SEhat_riskdiffhat, RDhat + z*SEhat_riskdiffhat]\n",
    "end"
   ]
  },
  {
   "cell_type": "code",
   "execution_count": 45,
   "metadata": {},
   "outputs": [
    {
     "name": "stdout",
     "output_type": "stream",
     "text": [
      "confint_rd_wald(0, 1, 1, 1) = [-1.1929519121748402, 0.1929519121748402]\n",
      "confint_rd_wald(0.0001, 1, 1, 1) = [-1.1931289644203495, 0.19332894442234927]\n",
      "confint_rd_wald(1, 0, 1, 1) = [-0.1929519121748402, 1.1929519121748402]\n",
      "confint_rd_wald(1, 0.0001, 1, 1) = [-0.19332894442234927, 1.1931289644203495]\n",
      "confint_rd_wald(1, 1, 0, 1) = [-0.1929519121748402, 1.1929519121748402]\n",
      "confint_rd_wald(1, 1, 0.0001, 1) = [-0.19332894442234927, 1.1931289644203495]\n",
      "confint_rd_wald(1, 1, 1, 0) = [-1.1929519121748402, 0.1929519121748402]\n",
      "confint_rd_wald(1, 1, 1, 0.0001) = [-1.1931289644203495, 0.19332894442234927]\n",
      "confint_rd_wald(0, 0, 1, 1) = [-1.1929519121748402, 0.1929519121748402]\n",
      "confint_rd_wald(0.0001, 1.0e-8, 1, 1) = [-1.5786785827129024, 2.5784786027109026]\n",
      "confint_rd_wald(1, 1, 0, 0) = [-0.1929519121748402, 1.1929519121748402]\n",
      "confint_rd_wald(1, 1, 0.0001, 1.0e-8) = [-2.5784786027109026, 1.5786785827129024]\n",
      "confint_rd_wald(0, 1, 0, 1) = [0.0, 0.0]\n",
      "confint_rd_wald(0.0001, 1, 1.0e-8, 1) = [-0.019497700370328632, 0.019697660372328635]\n",
      "confint_rd_wald(1, 0, 1, 0) = [0.0, 0.0]\n",
      "confint_rd_wald(1, 0.0001, 1, 1.0e-8) = [-0.019697660372323317, 0.01949770037032314]\n"
     ]
    }
   ],
   "source": [
    "@show confint_rd_wald(0, 1, 1, 1) confint_rd_wald(1e-4, 1, 1, 1)\n",
    "@show confint_rd_wald(1, 0, 1, 1) confint_rd_wald(1, 1e-4, 1, 1)\n",
    "@show confint_rd_wald(1, 1, 0, 1) confint_rd_wald(1, 1, 1e-4, 1)\n",
    "@show confint_rd_wald(1, 1, 1, 0) confint_rd_wald(1, 1, 1, 1e-4)\n",
    "@show confint_rd_wald(0, 0, 1, 1) confint_rd_wald(1e-4, 1e-8, 1, 1)\n",
    "@show confint_rd_wald(1, 1, 0, 0) confint_rd_wald(1, 1, 1e-4, 1e-8)\n",
    "@show confint_rd_wald(0, 1, 0, 1) confint_rd_wald(1e-4, 1, 1e-8, 1)\n",
    "@show confint_rd_wald(1, 0, 1, 0) confint_rd_wald(1, 1e-4, 1, 1e-8);"
   ]
  },
  {
   "cell_type": "code",
   "execution_count": 46,
   "metadata": {},
   "outputs": [
    {
     "data": {
      "text/plain": [
       "confint_or_pearson_chisq (generic function with 1 method)"
      ]
     },
     "execution_count": 46,
     "metadata": {},
     "output_type": "execute_result"
    }
   ],
   "source": [
    "function delta(a, b, c, d; ω=1)\n",
    "    A, B, C = 1-ω, a+d+ω*(b+c), a*d-ω*b*c\n",
    "    isinf(ω) ? typeof(ω)(-min(b, c)) : safediv(2C, B + √(B^2 - 4A*C))\n",
    "end\n",
    "\n",
    "# correction = 0.5 は連続性補正を与える.\n",
    "function _chisqstat_or(a, b, c, d, δ; correction=0.0)\n",
    "    ã, b̃, c̃, d̃ = a-δ, b+δ, c+δ, d-δ\n",
    "    safemul(max(0, abs(δ)-correction)^2, 1/ã + 1/b̃ + 1/c̃ + 1/d̃)\n",
    "end\n",
    "\n",
    "function chisqstat_or(a, b, c, d; ω=1, correction=0.0)\n",
    "    δ = delta(a, b, c, d; ω)\n",
    "    _chisqstat_or(a, b, c, d, δ; correction)\n",
    "end\n",
    "\n",
    "function pvalue_or_pearson_chisq(a, b, c, d; ω=1, correction=0.0)\n",
    "    χ² = chisqstat_or(a, b, c, d; ω, correction)\n",
    "    ccdf(Chisq(1), χ²)\n",
    "end\n",
    "\n",
    "function confint_or_pearson_chisq(a, b, c, d; α=0.05, correction=0.0)\n",
    "    (a+b==0 || c+d==0 || a+c==0 || b+d==0) && return [0, Inf]\n",
    "    f(logω) = logit(pvalue_or_pearson_chisq(a, b, c, d; ω=exp(logω), correction)) - logit(α)\n",
    "    ps = if a == 0 || d == 0\n",
    "        [0, exp(find_zero(f, 0.0))]\n",
    "    elseif b == 0 || c == 0\n",
    "        [exp(find_zero(f, 0.0)), Inf]\n",
    "    else\n",
    "        ORhat = oddsratiohat(a, b, c, d)\n",
    "        ω_L, ω_U = ORhat/2, 2ORhat\n",
    "        [exp(find_zero(f, log(ω_L))), exp(find_zero(f, log(ω_U)))]\n",
    "    end\n",
    "end"
   ]
  },
  {
   "cell_type": "code",
   "execution_count": 47,
   "metadata": {},
   "outputs": [
    {
     "name": "stdout",
     "output_type": "stream",
     "text": [
      "confint_or_pearson_chisq(0, 1, 1, 1) = [0.0, 11.137973937616904]\n",
      "confint_or_pearson_chisq(0.0001, 1, 1, 1) = [2.602261452525905e-9, 11.140095739591606]\n",
      "confint_or_pearson_chisq(1, 0, 1, 1) = [0.08978293589129746, Inf]\n",
      "confint_or_pearson_chisq(1, 0.0001, 1, 1) = [0.08976583535507918, 3.842811409403394e8]\n",
      "confint_or_pearson_chisq(1, 1, 0, 1) = [0.08978293589129746, Inf]\n",
      "confint_or_pearson_chisq(1, 1, 0.0001, 1) = [0.08976583535507918, 3.842811409403394e8]\n",
      "confint_or_pearson_chisq(1, 1, 1, 0) = [0.0, 11.137973937616904]\n",
      "confint_or_pearson_chisq(1, 1, 1, 0.0001) = [2.602261452525905e-9, 11.140095739591601]\n",
      "confint_or_pearson_chisq(0, 0, 1, 1) = [0.0, Inf]\n",
      "confint_or_pearson_chisq(0.0001, 0.0001, 1, 1) = [1.3012947051505169e-5, 76846.54337277808]\n",
      "confint_or_pearson_chisq(1, 1, 0, 0) = [0.0, Inf]\n",
      "confint_or_pearson_chisq(1, 1, 0.0001, 0.0001) = [1.3012947051505169e-5, 76846.54337277808]\n",
      "confint_or_pearson_chisq(0, 1, 0, 1) = [0.0, Inf]\n",
      "confint_or_pearson_chisq(0.0001, 1, 0.0001, 1) = [1.3012947051505169e-5, 76846.54337277808]\n",
      "confint_or_pearson_chisq(1, 0, 1, 0) = [0.0, Inf]\n",
      "confint_or_pearson_chisq(1, 0.0001, 1, 0.0001) = [1.3012947051505169e-5, 76846.54337277808]\n"
     ]
    }
   ],
   "source": [
    "@show confint_or_pearson_chisq(0, 1, 1, 1) confint_or_pearson_chisq(1e-4, 1, 1, 1)\n",
    "@show confint_or_pearson_chisq(1, 0, 1, 1) confint_or_pearson_chisq(1, 1e-4, 1, 1)\n",
    "@show confint_or_pearson_chisq(1, 1, 0, 1) confint_or_pearson_chisq(1, 1, 1e-4, 1)\n",
    "@show confint_or_pearson_chisq(1, 1, 1, 0) confint_or_pearson_chisq(1, 1, 1, 1e-4)\n",
    "@show confint_or_pearson_chisq(0, 0, 1, 1) confint_or_pearson_chisq(1e-4, 1e-4, 1, 1)\n",
    "@show confint_or_pearson_chisq(1, 1, 0, 0) confint_or_pearson_chisq(1, 1, 1e-4, 1e-4)\n",
    "@show confint_or_pearson_chisq(0, 1, 0, 1) confint_or_pearson_chisq(1e-4, 1, 1e-4, 1)\n",
    "@show confint_or_pearson_chisq(1, 0, 1, 0) confint_or_pearson_chisq(1, 1e-4, 1, 1e-4);"
   ]
  },
  {
   "cell_type": "code",
   "execution_count": 48,
   "metadata": {},
   "outputs": [
    {
     "name": "stdout",
     "output_type": "stream",
     "text": [
      "confint_or_wald(a, b, c, d) = [0.037829803607039435, 0.5592686923030045]\n",
      "confint_or_pearson_chisq(a, b, c, d) = [0.04084291410483445, 0.5253472140108638]\n",
      "confint_or_pearson_chisq(a, b, c, d; correction = 0.5) = [0.02962955731952911, 0.6228119542455192]\n"
     ]
    }
   ],
   "source": [
    "# Cornfeild (1956), p.139, (4.2) と比較せよ.\n",
    "a, b, c, d = 3, 11, 60, 32\n",
    "@show confint_or_wald(a, b, c, d)\n",
    "@show confint_or_pearson_chisq(a, b, c, d)\n",
    "@show confint_or_pearson_chisq(a, b, c, d; correction=0.5);"
   ]
  },
  {
   "cell_type": "code",
   "execution_count": 49,
   "metadata": {},
   "outputs": [
    {
     "data": {
      "text/plain": [
       "confint_rr_pearson_chisq (generic function with 1 method)"
      ]
     },
     "execution_count": 49,
     "metadata": {},
     "output_type": "execute_result"
    }
   ],
   "source": [
    "function Delta(a, b, c, d; ρ=1)\n",
    "    m, n = a+b, c+d\n",
    "    A, B, C = ρ-1, n-a+ρ*(m-c), a*n-ρ*m*c\n",
    "    isinf(ρ) ? typeof(ω)(-c) : safediv(2C, B + √(B^2 - 4A*C))\n",
    "end\n",
    "\n",
    "function _chisqstat_rr(a, b, c, d, Δ)\n",
    "    m, n = a+b, c+d\n",
    "    safemul(Δ^2, safediv(b, m*(a-Δ)) + safediv(d, n*(c+Δ)))\n",
    "end\n",
    "\n",
    "function chisqstat_rr(a, b, c, d; ρ=1)\n",
    "    Δ = Delta(a, b, c, d; ρ)\n",
    "    _chisqstat_rr(a, b, c, d, Δ)\n",
    "end\n",
    "\n",
    "function pvalue_rr_pearson_chisq(a, b, c, d; ρ=1)\n",
    "    χ² = chisqstat_rr(a, b, c, d; ρ)\n",
    "    ccdf(Chisq(1), χ²)\n",
    "end\n",
    "\n",
    "function confint_rr_pearson_chisq(a, b, c, d; α=0.05)\n",
    "    (a+b==0 || c+d==0 || a+c==0 || b+d==0) && return [0, Inf]\n",
    "    f(logρ) = logit(pvalue_rr_pearson_chisq(a, b, c, d; ρ=exp(logρ))) - logit(α)\n",
    "    RRhat = riskratiohat(a, b, c, d)\n",
    "    if a == 0\n",
    "        [0.0, exp(find_zero(f, 0.0))]\n",
    "    elseif c == 0\n",
    "        [exp(find_zero(f, 0.0)), Inf]\n",
    "    elseif b == 0\n",
    "        [0.0, exp(find_zero(f, log(2RRhat)))]\n",
    "    elseif d == 0\n",
    "        [exp(find_zero(f, log(RRhat/2))), Inf]\n",
    "    else\n",
    "        ρ_L, ρ_U = RRhat/2, 2RRhat\n",
    "        [exp(find_zero(f, log(ρ_L))), exp(find_zero(f, log(ρ_U)))]\n",
    "    end\n",
    "end"
   ]
  },
  {
   "cell_type": "code",
   "execution_count": 50,
   "metadata": {},
   "outputs": [
    {
     "name": "stdout",
     "output_type": "stream",
     "text": [
      "confint_rr_pearson_chisq(0, 1, 1, 1) = [0.0, 4.10417860525958]\n",
      "confint_rr_pearson_chisq(0.0001, 1, 1, 1) = [5.205303607358693e-9, 4.104616767401084]\n",
      "confint_rr_pearson_chisq(1, 0, 1, 1) = [0.0, 10.578517350254106]\n",
      "confint_rr_pearson_chisq(1, 0.0001, 1, 1) = [0.32665454735880284, 10.577873776111911]\n",
      "confint_rr_pearson_chisq(1, 1, 0, 1) = [0.2436541135706135, Inf]\n",
      "confint_rr_pearson_chisq(1, 1, 0.0001, 1) = [0.24362810383225364, 1.9211175282574818e8]\n",
      "confint_rr_pearson_chisq(1, 1, 1, 0) = [0.09453120573423061, Inf]\n",
      "confint_rr_pearson_chisq(1, 1, 1, 0.0001) = [0.0945369571584704, 3.0613380652042177]\n",
      "confint_rr_pearson_chisq(0, 0, 1, 1) = [0.0, Inf]\n",
      "confint_rr_pearson_chisq(0.0001, 0.0001, 1, 1) = [2.602945936963888e-5, 9.681923544184194]\n",
      "confint_rr_pearson_chisq(1, 1, 0, 0) = [0.0, Inf]\n",
      "confint_rr_pearson_chisq(1, 1, 0.0001, 0.0001) = [0.10328526097487344, 38418.00883361873]\n",
      "confint_rr_pearson_chisq(0, 1, 0, 1) = [0.0, Inf]\n",
      "confint_rr_pearson_chisq(0.0001, 1, 0.0001, 1) = [1.3016851156610122e-5, 76823.49501927945]\n",
      "confint_rr_pearson_chisq(1, 0, 1, 0) = [0.0, Inf]\n",
      "confint_rr_pearson_chisq(1, 0.0001, 1, 0.0001) = [0.20653685531726315, 4.84175087521499]\n"
     ]
    }
   ],
   "source": [
    "@show confint_rr_pearson_chisq(0, 1, 1, 1) confint_rr_pearson_chisq(1e-4, 1, 1, 1)\n",
    "@show confint_rr_pearson_chisq(1, 0, 1, 1) confint_rr_pearson_chisq(1, 1e-4, 1, 1)\n",
    "@show confint_rr_pearson_chisq(1, 1, 0, 1) confint_rr_pearson_chisq(1, 1, 1e-4, 1)\n",
    "@show confint_rr_pearson_chisq(1, 1, 1, 0) confint_rr_pearson_chisq(1, 1, 1, 1e-4)\n",
    "@show confint_rr_pearson_chisq(0, 0, 1, 1) confint_rr_pearson_chisq(1e-4, 1e-4, 1, 1)\n",
    "@show confint_rr_pearson_chisq(1, 1, 0, 0) confint_rr_pearson_chisq(1, 1, 1e-4, 1e-4)\n",
    "@show confint_rr_pearson_chisq(0, 1, 0, 1) confint_rr_pearson_chisq(1e-4, 1, 1e-4, 1)\n",
    "@show confint_rr_pearson_chisq(1, 0, 1, 0) confint_rr_pearson_chisq(1, 1e-4, 1, 1e-4);"
   ]
  },
  {
   "cell_type": "code",
   "execution_count": 51,
   "metadata": {},
   "outputs": [
    {
     "data": {
      "text/plain": [
       "confint_or_sterne (generic function with 1 method)"
      ]
     },
     "execution_count": 51,
     "metadata": {},
     "output_type": "execute_result"
    }
   ],
   "source": [
    "_pdf_le(x, (dist, y)) =  pdf(dist, x) ⪅ y\n",
    "\n",
    "function _search_boundary(f, x0, Δx, param)\n",
    "    x = x0\n",
    "    if f(x, param)\n",
    "        while f(x - Δx, param) x -= Δx end\n",
    "    else\n",
    "        x += Δx\n",
    "        while !f(x, param) x += Δx end\n",
    "    end\n",
    "    x\n",
    "end\n",
    "\n",
    "function pvalue_sterne(dist::DiscreteUnivariateDistribution, x)\n",
    "    Px = pdf(dist, x)\n",
    "    Px == 0 && return Px\n",
    "    Px == 1 && return Px\n",
    "    m = mode(dist)\n",
    "    Px ≈ pdf(dist, m) && return one(Px)\n",
    "    if x < m\n",
    "        y = _search_boundary(_pdf_le, 2m - x, 1, (dist, Px))\n",
    "        cdf(dist, x) + ccdf(dist, y-1)\n",
    "    else # x > m\n",
    "        y = _search_boundary(_pdf_le, 2m - x, -1, (dist, Px))\n",
    "        cdf(dist, y) + ccdf(dist, x-1)\n",
    "    end\n",
    "end\n",
    "\n",
    "function pvalue_or_sterne(a, b, c, d; ω=1)\n",
    "    fnch = if ω == 1\n",
    "        Hypergeometric(a+b, c+d, a+c)\n",
    "    else\n",
    "        FisherNoncentralHypergeometric(a+b, c+d, a+c, ω)\n",
    "    end\n",
    "    pvalue_sterne(fnch, a)\n",
    "end\n",
    "\n",
    "function confint_or_sterne(a, b, c, d; α = 0.05)\n",
    "    (a+b==0 || c+d==0 || a+c==0 || b+d==0) && return [0, Inf]\n",
    "    f(logω) = logit(pvalue_or_sterne(a, b, c, d; ω=exp(logω))) - logit(α)\n",
    "    if a == 0 || d == 0\n",
    "        [0.0, exp(find_zero(f, 0.0))]\n",
    "    elseif b == 0 || c == 0\n",
    "        [exp(find_zero(f, 0.0)), Inf]\n",
    "    else\n",
    "        ω_L, ω_U = confint_or_wald(a, b, c, d; α = α/10)\n",
    "        ps = exp.(find_zeros(f, log(ω_L), log(ω_U)))\n",
    "        # 次の行は稀に区間にならない場合への対策\n",
    "        [first(ps), last(ps)]\n",
    "    end\n",
    "end"
   ]
  },
  {
   "cell_type": "code",
   "execution_count": 52,
   "metadata": {},
   "outputs": [
    {
     "name": "stdout",
     "output_type": "stream",
     "text": [
      "confint_or_sterne(0, 10, 10, 10) = [0.0, 0.5431888559914949]\n",
      "confint_or_pearson_chisq(0.0001, 10, 10, 10) = [2.6029641085026625e-10, 0.44168708894449726]\n",
      "confint_or_sterne(10, 0, 10, 10) = [1.8409803311864292, Inf]\n",
      "confint_or_pearson_chisq(10, 0.0001, 10, 10) = [2.264046255890583, 3.8417740633827114e9]\n",
      "confint_or_sterne(10, 10, 0, 10) = [1.8409803311864295, Inf]\n",
      "confint_or_pearson_chisq(10, 10, 0.0001, 10) = [2.264046255890583, 3.841774063392443e9]\n",
      "confint_or_sterne(10, 10, 10, 0) = [0.0, 0.5431888559914949]\n",
      "confint_or_pearson_chisq(10, 10, 10, 0.0001) = [2.6029641085026625e-10, 0.44168708894449726]\n",
      "confint_or_sterne(0, 0, 10, 10) = [0.0, Inf]\n",
      "confint_or_pearson_chisq(0.0001, 0.0001, 10, 10) = [1.301528947084912e-5, 76832.712959483]\n",
      "confint_or_sterne(10, 10, 0, 0) = [0.0, Inf]\n",
      "confint_or_pearson_chisq(10, 10, 0.0001, 0.0001) = [1.301528947084912e-5, 76832.7129594542]\n",
      "confint_or_sterne(0, 10, 0, 10) = [0.0, Inf]\n",
      "confint_or_pearson_chisq(0.0001, 10, 0.0001, 10) = [1.301528947084912e-5, 76832.7129594542]\n",
      "confint_or_sterne(10, 0, 10, 0) = [0.0, Inf]\n",
      "confint_or_pearson_chisq(10, 0.0001, 10, 0.0001) = [1.301528947084912e-5, 76832.712959483]\n"
     ]
    }
   ],
   "source": [
    "@show confint_or_sterne(0, 10, 10, 10) confint_or_pearson_chisq(1e-4, 10, 10, 10)\n",
    "@show confint_or_sterne(10, 0, 10, 10) confint_or_pearson_chisq(10, 1e-4, 10, 10)\n",
    "@show confint_or_sterne(10, 10, 0, 10) confint_or_pearson_chisq(10, 10, 1e-4, 10)\n",
    "@show confint_or_sterne(10, 10, 10, 0) confint_or_pearson_chisq(10, 10, 10, 1e-4)\n",
    "@show confint_or_sterne(0, 0, 10, 10) confint_or_pearson_chisq(1e-4, 1e-4, 10, 10)\n",
    "@show confint_or_sterne(10, 10, 0, 0) confint_or_pearson_chisq(10, 10, 1e-4, 1e-4)\n",
    "@show confint_or_sterne(0, 10, 0, 10) confint_or_pearson_chisq(1e-4, 10, 1e-4, 10)\n",
    "@show confint_or_sterne(10, 0, 10, 0) confint_or_pearson_chisq(10, 1e-4, 10, 1e-4);"
   ]
  },
  {
   "cell_type": "code",
   "execution_count": 53,
   "metadata": {},
   "outputs": [
    {
     "data": {
      "text/plain": [
       "confint_or_clopper_pearson (generic function with 1 method)"
      ]
     },
     "execution_count": 53,
     "metadata": {},
     "output_type": "execute_result"
    }
   ],
   "source": [
    "function pvalue_or_clopper_pearson(a, b, c, d; ω=1)\n",
    "    fnch = if ω == 1\n",
    "        Hypergeometric(a+b, c+d, a+c)\n",
    "    else\n",
    "        FisherNoncentralHypergeometric(a+b, c+d, a+c, ω)\n",
    "    end\n",
    "    min(1, 2cdf(fnch, a), 2ccdf(fnch, a-1))\n",
    "end\n",
    "\n",
    "function confint_or_clopper_pearson(a, b, c, d; α = 0.05)\n",
    "    (a+b==0 || c+d==0 || a+c==0 || b+d==0) && return [0, Inf]\n",
    "    f(ω) = logit(pvalue_or_clopper_pearson(a, b, c, d; ω)) - logit(α)\n",
    "    if a == 0 || d == 0\n",
    "        [0.0, find_zero(f, 1.0)]\n",
    "    elseif b == 0 || c == 0\n",
    "        [find_zero(f, 1.0), Inf]\n",
    "    else\n",
    "        ω_L, ω_U = confint_or_wald(a, b, c, d; α = α/10)\n",
    "        find_zeros(f, ω_L, ω_U)\n",
    "    end\n",
    "end"
   ]
  },
  {
   "cell_type": "code",
   "execution_count": 54,
   "metadata": {},
   "outputs": [
    {
     "name": "stdout",
     "output_type": "stream",
     "text": [
      "confint_or_clopper_pearson(0, 10, 10, 10) = [0.0, 0.6246724957742202]\n",
      "confint_or_sterne(0, 10, 10, 10) = [0.0, 0.5431888559914949]\n",
      "confint_or_clopper_pearson(10, 0, 10, 10) = [1.6008388503812658, Inf]\n",
      "confint_or_sterne(10, 0, 10, 10) = [1.8409803311864292, Inf]\n",
      "confint_or_clopper_pearson(10, 10, 0, 10) = [1.600838850381266, Inf]\n",
      "confint_or_sterne(10, 10, 0, 10) = [1.8409803311864295, Inf]\n",
      "confint_or_clopper_pearson(10, 10, 10, 0) = [0.0, 0.6246724957742202]\n",
      "confint_or_sterne(10, 10, 10, 0) = [0.0, 0.5431888559914949]\n",
      "confint_or_clopper_pearson(0, 0, 10, 10) = [0.0, Inf]\n",
      "confint_or_sterne(0, 0, 10, 10) = [0.0, Inf]\n",
      "confint_or_clopper_pearson(10, 10, 0, 0) = [0.0, Inf]\n",
      "confint_or_sterne(10, 10, 0, 0) = [0.0, Inf]\n",
      "confint_or_clopper_pearson(0, 10, 0, 10) = [0.0, Inf]\n",
      "confint_or_sterne(0, 10, 0, 10) = [0.0, Inf]\n",
      "confint_or_clopper_pearson(10, 0, 10, 0) = [0.0, Inf]\n",
      "confint_or_sterne(10, 0, 10, 0) = [0.0, Inf]\n"
     ]
    }
   ],
   "source": [
    "@show confint_or_clopper_pearson(0, 10, 10, 10) confint_or_sterne(0, 10, 10, 10)\n",
    "@show confint_or_clopper_pearson(10, 0, 10, 10) confint_or_sterne(10, 0, 10, 10)\n",
    "@show confint_or_clopper_pearson(10, 10, 0, 10) confint_or_sterne(10, 10, 0, 10)\n",
    "@show confint_or_clopper_pearson(10, 10, 10, 0) confint_or_sterne(10, 10, 10, 0)\n",
    "@show confint_or_clopper_pearson(0, 0, 10, 10) confint_or_sterne(0, 0, 10, 10)\n",
    "@show confint_or_clopper_pearson(10, 10, 0, 0) confint_or_sterne(10, 10, 0, 0)\n",
    "@show confint_or_clopper_pearson(0, 10, 0, 10) confint_or_sterne(0, 10, 0, 10)\n",
    "@show confint_or_clopper_pearson(10, 0, 10, 0) confint_or_sterne(10, 0, 10, 0);"
   ]
  },
  {
   "cell_type": "code",
   "execution_count": 55,
   "metadata": {},
   "outputs": [
    {
     "data": {
      "image/png": "[encoded data removed]"
     },
     "execution_count": 55,
     "metadata": {},
     "output_type": "execute_result"
    }
   ],
   "source": [
    "function sim_probabilities_of_type_I_error(m, n, p, q=p;\n",
    "    ω=p*(1-q)/((1-p)*q), L=10^5)\n",
    "bina, binc = Binomial(m, p), Binomial(n, q)\n",
    "p_sterne = similar(zeros(), L)\n",
    "p_clopper_pearson = similar(zeros(), L)\n",
    "p_pearson_chisq = similar(zeros(), L)\n",
    "p_wald = similar(zeros(), L)\n",
    "@threads for i in 1:L\n",
    "    a, c = rand(bina), rand(binc)\n",
    "    b, d = m-a, n-c\n",
    "    p_sterne[i] = pvalue_or_sterne(a, b, c, d; ω)\n",
    "    p_clopper_pearson[i] = pvalue_or_clopper_pearson(a, b, c, d; ω)\n",
    "    p_pearson_chisq[i] = pvalue_or_pearson_chisq(a, b, c, d; ω)\n",
    "    p_wald[i] = pvalue_or_wald(a, b, c, d; ω)\n",
    "end\n",
    "(; p_sterne, p_clopper_pearson, p_pearson_chisq, p_wald)\n",
    "end\n",
    "\n",
    "function plot_probabilities_of_type_I_error(m, n, p, q=p;\n",
    "        ω=p*(1-q)/((1-p)*q), L=10^6, kwargs...)\n",
    "    (; p_sterne, p_clopper_pearson, p_pearson_chisq, p_wald) =\n",
    "        sim_probabilities_of_type_I_error(m, n, p, q; ω, L)\n",
    "    F_sterne = ecdf(p_sterne)\n",
    "    F_clopper_pearson = ecdf(p_clopper_pearson)\n",
    "    F_pearson_chisq = ecdf(p_pearson_chisq)\n",
    "    F_wald = ecdf(p_wald)\n",
    "    \n",
    "    x = 0:0.001:1\n",
    "    tick = 0:0.1:1\n",
    "    P = plot(; legend=:topleft)\n",
    "    plot!(x, x -> F_sterne(x); label=\"Fisher (Sterne)\")\n",
    "    plot!(x, x -> F_clopper_pearson(x); label=\"Fisher (CP)\", ls=:dash)\n",
    "    plot!(x, x -> F_pearson_chisq(x); label=\"Pearson χ²\", ls=:dashdot)\n",
    "    plot!(x, x -> F_wald(x); label=\"Wald\", ls=:dot, lw=2)\n",
    "    plot!(x, identity; label=\"\", c=:black, ls=:dot)\n",
    "    plot!(; xtick=tick, ytick=tick, tickfontsize=6)\n",
    "    plot!(; xguide=\"α\", yguide=\"probability of type I error\",\n",
    "        guidefontsize=9)\n",
    "    \n",
    "    x = 0:0.0001:0.1\n",
    "    tick = 0:0.01:1\n",
    "    Q = plot(; legend=:topleft)\n",
    "    plot!(x, x -> F_sterne(x); label=\"Fisher (Sterne)\")\n",
    "    plot!(x, x -> F_clopper_pearson(x); label=\"Fisher (CP)\", ls=:dash)\n",
    "    plot!(x, x -> F_pearson_chisq(x); label=\"Pearson χ²\", ls=:dashdot)\n",
    "    plot!(x, x -> F_wald(x); label=\"Wald\", ls=:dot, lw=2)\n",
    "    plot!(x, identity; label=\"\", c=:black, ls=:dot)\n",
    "    plot!(; xtick=tick, ytick=tick, tickfontsize=6)\n",
    "    plot!(; xguide=\"α\", yguide=\"probability of type I error\",\n",
    "        guidefontsize=9)\n",
    "    \n",
    "    plot(P, Q; size=(700, 350), layout=(1, 2))\n",
    "    plot!(; plot_title=\"Binomial(m=$m, p=$p)×Binomial(n=$n, q=$q)\",\n",
    "        plot_titlefontsize=10)\n",
    "    plot!(; kwargs...)\n",
    "end\n",
    "\n",
    "plot_probabilities_of_type_I_error(20, 30, 0.4)"
   ]
  },
  {
   "cell_type": "code",
   "execution_count": 56,
   "metadata": {},
   "outputs": [
    {
     "name": "stdout",
     "output_type": "stream",
     "text": [
      "(a, b, c, d) = (23, 230, 43, 213)\n",
      "ω = 0.9\n",
      "ORhat = (a * d) / (b * c) = 0.49534883720930234\n",
      "SEhat = √(1 / a + 1 / b + 1 / c + 1 / d) = 0.27527574646299896\n",
      "pvalue = 2 * ccdf(Normal(), abs(log(ORhat) - log(ω)) / SEhat) = 0.030066296229886037\n",
      "α = 0.05\n",
      "z = quantile(Normal(), 1 - α / 2) = 1.9599639845400576\n",
      "confint = [exp(-z * SEhat) * ORhat, exp(z * SEhat) * ORhat] = [0.288799214494071, 0.8496230536999794]\n"
     ]
    }
   ],
   "source": [
    "a, b, c, d = 23, 230, 43, 213\n",
    "@show a, b, c, d\n",
    "ω = 0.9\n",
    "@show ω\n",
    "@show ORhat = a*d/(b*c)\n",
    "@show SEhat = √(1/a + 1/b + 1/c + 1/d)\n",
    "@show pvalue = 2ccdf(Normal(), abs(log(ORhat) - log(ω))/SEhat)\n",
    "α = 0.05\n",
    "@show α\n",
    "@show z = quantile(Normal(), 1-α/2)\n",
    "@show confint = [exp(-z*SEhat)*ORhat, exp(z*SEhat)*ORhat];"
   ]
  },
  {
   "cell_type": "code",
   "execution_count": 57,
   "metadata": {},
   "outputs": [
    {
     "name": "stdout",
     "output_type": "stream",
     "text": [
      "(a, b, c, d) = (23, 230, 43, 213)\n",
      "pvalue_or_wald(a, b, c, d; ω = 0.9) = 0.030066296229886037\n",
      "confint_or_wald(a, b, c, d; α = 0.005) = [0.22873266504871012, 1.072739088106872]\n"
     ]
    }
   ],
   "source": [
    "a, b, c, d = 23, 230, 43, 213\n",
    "@show a, b, c, d\n",
    "@show pvalue_or_wald(a, b, c, d; ω=0.9)\n",
    "@show confint_or_wald(a, b, c, d; α=0.005);"
   ]
  },
  {
   "cell_type": "code",
   "execution_count": 58,
   "metadata": {},
   "outputs": [
    {
     "data": {
      "image/png": "[encoded data removed]"
     },
     "execution_count": 58,
     "metadata": {},
     "output_type": "execute_result"
    }
   ],
   "source": [
    "a, b, c, d = 23, 230, 43, 213\n",
    "plot(ω -> pvalue_or_wald(a,b,c,d; ω), 0.0 ,1.1; label=\"Wald P-value func.\")\n",
    "vline!([oddsratiohat(a,b,c,d)]; label=\"ORhat = (ad)/(bc)\", ls=:dash)\n",
    "plot!(; xguide=\"OR = ω\", yguide=\"P-value\")\n",
    "plot!(; ytick=0:0.1:1)\n",
    "title!(\"a, b, c, d = $a, $b, $c, $d\")"
   ]
  },
  {
   "cell_type": "code",
   "execution_count": 59,
   "metadata": {},
   "outputs": [
    {
     "name": "stdout",
     "output_type": "stream",
     "text": [
      "riskratiohat(a, b, c, d) = 0.5412262156448203\n",
      "oddsratiohat(a, b, c, d) = 0.49534883720930234\n",
      "pvalue_rr_wald(a, b, c, d; ρ = 0.9) = 0.03608976031307245\n",
      "pvalue_or_wald(a, b, c, d; ω = 0.9) = 0.030066296229886037\n",
      "confint_rr_wald(a, b, c, d; α = 0.05) = [0.3363886834579713, 0.870795692322426]\n",
      "confint_or_wald(a, b, c, d; α = 0.05) = [0.288799214494071, 0.8496230536999794]\n"
     ]
    }
   ],
   "source": [
    "a, b, c, d = 23, 230, 43, 213\n",
    "@show riskratiohat(a, b, c, d)\n",
    "@show oddsratiohat(a, b, c, d)\n",
    "@show pvalue_rr_wald(a, b, c, d; ρ=0.9)\n",
    "@show pvalue_or_wald(a, b, c, d; ω=0.9)\n",
    "@show confint_rr_wald(a, b, c, d; α = 0.05)\n",
    "@show confint_or_wald(a, b, c, d; α = 0.05);"
   ]
  },
  {
   "cell_type": "code",
   "execution_count": 60,
   "metadata": {},
   "outputs": [
    {
     "name": "stdout",
     "output_type": "stream",
     "text": [
      "oddsratiohat(a, b, c, d) = 0.49534883720930234\n",
      "pvalue_or_wald(a, b, c, d; ω = 0.9) = 0.030066296229886037\n",
      "pvalue_or_pearson_chisq(a, b, c, d; ω = 0.9) = 0.02844011042556404\n",
      "pvalue_or_sterne(a, b, c, d; ω = 0.9) = 0.034196062301823905\n",
      "pvalue_or_clopper_pearson(a, b, c, d; ω = 0.9) = 0.03839388251759841\n",
      "confint_or_wald(a, b, c, d; α = 0.05) = [0.288799214494071, 0.8496230536999794]\n",
      "confint_or_pearson_chisq(a, b, c, d; α = 0.05) = [0.2901717291680993, 0.8459270313113191]\n",
      "confint_or_sterne(a, b, c, d; α = 0.05) = [0.2852107966466883, 0.8511784263249226]\n",
      "confint_or_clopper_pearson(a, b, c, d; α = 0.05) = [0.27543053647333116, 0.873983494501823]\n"
     ]
    }
   ],
   "source": [
    "a, b, c, d, ω, α = 23, 230, 43, 213, 0.9, 0.005\n",
    "@show oddsratiohat(a, b, c, d)\n",
    "@show pvalue_or_wald(a, b, c, d;ω=0.9)\n",
    "@show pvalue_or_pearson_chisq(a, b, c, d;ω=0.9)\n",
    "@show pvalue_or_sterne(a, b, c, d;ω=0.9)\n",
    "@show pvalue_or_clopper_pearson(a, b, c, d;ω=0.9)\n",
    "@show confint_or_wald(a, b, c, d; α=0.05)\n",
    "@show confint_or_pearson_chisq(a, b, c, d; α=0.05)\n",
    "@show confint_or_sterne(a, b, c, d; α=0.05)\n",
    "@show confint_or_clopper_pearson(a, b, c, d; α=0.05);"
   ]
  },
  {
   "cell_type": "markdown",
   "metadata": {},
   "source": [
    "__解答__\n",
    "\n",
    "1, 0.02844011042556404\n",
    "\n",
    "2, 0.034196062301823905\n",
    "\n",
    "3, [0.2901717291680993, 0.8459270313113191]\n",
    "\n",
    "4, [0.27543053647333116, 0.873983494501823]"
   ]
  },
  {
   "cell_type": "markdown",
   "metadata": {},
   "source": [
    "## 大問9 10"
   ]
  },
  {
   "cell_type": "code",
   "execution_count": 61,
   "metadata": {},
   "outputs": [
    {
     "data": {
      "text/latex": [
       "$\\displaystyle n$\n"
      ],
      "text/plain": [
       "n"
      ]
     },
     "execution_count": 61,
     "metadata": {},
     "output_type": "execute_result"
    }
   ],
   "source": [
    "x=symbols(\"x\")\n",
    "n=symbols(\"n\")"
   ]
  },
  {
   "cell_type": "code",
   "execution_count": 62,
   "metadata": {},
   "outputs": [
    {
     "data": {
      "text/latex": [
       "$\\displaystyle x^{\\frac{n}{2} - 1} \\cos{\\left(\\frac{x}{n} \\right)}$\n"
      ],
      "text/plain": [
       " n           \n",
       " ─ - 1       \n",
       " 2        ⎛x⎞\n",
       "x     ⋅cos⎜─⎟\n",
       "          ⎝n⎠"
      ]
     },
     "execution_count": 62,
     "metadata": {},
     "output_type": "execute_result"
    }
   ],
   "source": [
    "K= cos(x/n)*x^((n/2)-1)"
   ]
  },
  {
   "cell_type": "code",
   "execution_count": 63,
   "metadata": {},
   "outputs": [
    {
     "data": {
      "text/latex": [
       "$\\displaystyle \\frac{x^{\\frac{n}{2}} \\Gamma\\left(\\frac{n}{4}\\right) {{}_{1}F_{2}\\left(\\begin{matrix} \\frac{n}{4} \\\\ \\frac{1}{2}, \\frac{n}{4} + 1 \\end{matrix}\\middle| {- \\frac{x^{2}}{4 n^{2}}} \\right)}}{2 \\Gamma\\left(\\frac{n}{4} + 1\\right)}$\n"
      ],
      "text/plain": [
       " n           ⎛    n      │     ⎞\n",
       " ─           ⎜    ─      │   2 ⎟\n",
       " 2  ⎛n⎞  ┌─  ⎜    4      │ -x  ⎟\n",
       "x ⋅Γ⎜─⎟⋅ ├─  ⎜           │ ────⎟\n",
       "    ⎝4⎠ 1╵ 2 ⎜     n     │    2⎟\n",
       "             ⎜1/2, ─ + 1 │ 4⋅n ⎟\n",
       "             ⎝     4     │     ⎠\n",
       "────────────────────────────────\n",
       "              ⎛n    ⎞           \n",
       "           2⋅Γ⎜─ + 1⎟           \n",
       "              ⎝4    ⎠           "
      ]
     },
     "execution_count": 63,
     "metadata": {},
     "output_type": "execute_result"
    }
   ],
   "source": [
    "K.integrate(x)"
   ]
  },
  {
   "cell_type": "code",
   "execution_count": 64,
   "metadata": {},
   "outputs": [
    {
     "data": {
      "text/latex": [
       "$\\displaystyle x^{\\frac{n}{2} - 1}$\n"
      ],
      "text/plain": [
       " n    \n",
       " ─ - 1\n",
       " 2    \n",
       "x     "
      ]
     },
     "execution_count": 64,
     "metadata": {},
     "output_type": "execute_result"
    }
   ],
   "source": [
    "V= x^((n/2)-1)"
   ]
  },
  {
   "cell_type": "code",
   "execution_count": 65,
   "metadata": {},
   "outputs": [
    {
     "data": {
      "text/latex": [
       "$\\displaystyle \\begin{cases} \\frac{2 x^{\\frac{n}{2}}}{n} & \\text{for}\\: n \\neq 0 \\\\\\log{\\left(x \\right)} & \\text{otherwise} \\end{cases}$\n"
      ],
      "text/plain": [
       "⎧    n            \n",
       "⎪    ─            \n",
       "⎪    2            \n",
       "⎪ 2⋅x             \n",
       "⎨ ────   for n ≠ 0\n",
       "⎪  n              \n",
       "⎪                 \n",
       "⎪log(x)  otherwise\n",
       "⎩                 "
      ]
     },
     "execution_count": 65,
     "metadata": {},
     "output_type": "execute_result"
    }
   ],
   "source": [
    "V.integrate(x)"
   ]
  },
  {
   "cell_type": "code",
   "execution_count": null,
   "metadata": {},
   "outputs": [],
   "source": []
  }
 ],
 "metadata": {
  "kernelspec": {
   "display_name": "Julia 1.7.2",
   "language": "julia",
   "name": "julia-1.7"
  },
  "language_info": {
   "file_extension": ".jl",
   "mimetype": "application/julia",
   "name": "julia",
   "version": "1.7.2"
  },
  "orig_nbformat": 4
 },
 "nbformat": 4,
 "nbformat_minor": 2
}
